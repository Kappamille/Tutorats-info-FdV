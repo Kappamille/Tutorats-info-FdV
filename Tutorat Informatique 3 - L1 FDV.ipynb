{
 "cells": [
  {
   "cell_type": "markdown",
   "metadata": {},
   "source": [
    "# Correction Tutorat Informatique 3"
   ]
  },
  {
   "cell_type": "markdown",
   "metadata": {},
   "source": [
    "14/04/21 - Camille Duquesne"
   ]
  },
  {
   "cell_type": "markdown",
   "metadata": {},
   "source": [
    "Les exercices se font indépendament des uns des autres."
   ]
  },
  {
   "cell_type": "markdown",
   "metadata": {},
   "source": [
    "Les compétence travaillés dans ce tutorat sont:\n",
    "* Les conditional statements (while, if, elif, else)\n",
    "* Les boucles for\n",
    "* La manipulation de strings\n",
    "* La définition et l'utilisation de fonctions\n",
    "* L'utilisation de la librairie string (ou re)\n",
    "* L'utilisation des librairies pandas, numpy, matplotlib, seaborn\n",
    "* La définition et l'utilisation de classes"
   ]
  },
  {
   "cell_type": "markdown",
   "metadata": {},
   "source": [
    "## Exercice 1: Votre mot de passe est incorrect"
   ]
  },
  {
   "cell_type": "markdown",
   "metadata": {},
   "source": [
    "Dans cet exercice nous allons écrire une fonction appellée `verification` qui prendra en entrée un mot de passe et qui retournera `True` si le mot de passe est valide ou `False` si le mot de passe n'est pas valide."
   ]
  },
  {
   "cell_type": "markdown",
   "metadata": {},
   "source": [
    "Pour que le mot de passe soit valide il doit:\n",
    "   * contenir au moins une lettre minuscule \n",
    "   * contenir au moins une lettre majuscule\n",
    "   * contenir au moins un chiffre\n",
    "   * contenir au moins un caractère spécial \n",
    "   * avoir une longeur minimale de 6 caractères\n",
    "   * avoir une longeur maximale de 16 caractères "
   ]
  },
  {
   "cell_type": "markdown",
   "metadata": {},
   "source": [
    "**Tips**: vous pouvez consulter les liens suivants\n",
    "   * https://docs.python.org/3/library/string.html\n",
    "   * https://docs.python.org/3/tutorial/controlflow.html\n",
    "   * https://www.tutorialspoint.com/python/python_if_else.htm\n",
    "   * https://www.w3schools.com/python/python_regex.asp\n",
    "    "
   ]
  },
  {
   "cell_type": "code",
   "execution_count": null,
   "metadata": {},
   "outputs": [],
   "source": []
  },
  {
   "cell_type": "code",
   "execution_count": null,
   "metadata": {},
   "outputs": [],
   "source": []
  },
  {
   "cell_type": "code",
   "execution_count": null,
   "metadata": {},
   "outputs": [],
   "source": []
  },
  {
   "cell_type": "markdown",
   "metadata": {},
   "source": [
    "Vous pouvez executer la cellule suivante pour voir si votre fonction marche bien. Si vous n'avez aucun message d'erreur c'est tout bon ! (`assert` vérifie si l'égalité qu'on lui donne est vraie ou non , si elle est fausse elle print le message d'erreur)"
   ]
  },
  {
   "cell_type": "code",
   "execution_count": 1,
   "metadata": {},
   "outputs": [
    {
     "ename": "NameError",
     "evalue": "name 'verification' is not defined",
     "output_type": "error",
     "traceback": [
      "\u001b[0;31m---------------------------------------------------------------------------\u001b[0m",
      "\u001b[0;31mNameError\u001b[0m                                 Traceback (most recent call last)",
      "\u001b[0;32m<ipython-input-1-d6e433718332>\u001b[0m in \u001b[0;36m<module>\u001b[0;34m\u001b[0m\n\u001b[0;32m----> 1\u001b[0;31m \u001b[0;32massert\u001b[0m \u001b[0mverification\u001b[0m\u001b[0;34m(\u001b[0m\u001b[0;34m'password'\u001b[0m\u001b[0;34m)\u001b[0m \u001b[0;34m==\u001b[0m \u001b[0;32mFalse\u001b[0m\u001b[0;34m,\u001b[0m \u001b[0;34m\"Cette fonction ne mache pas pour le mdp: password\"\u001b[0m\u001b[0;34m\u001b[0m\u001b[0;34m\u001b[0m\u001b[0m\n\u001b[0m\u001b[1;32m      2\u001b[0m \u001b[0;32massert\u001b[0m \u001b[0mverification\u001b[0m\u001b[0;34m(\u001b[0m\u001b[0;34m'Password'\u001b[0m\u001b[0;34m)\u001b[0m \u001b[0;34m==\u001b[0m \u001b[0;32mFalse\u001b[0m\u001b[0;34m,\u001b[0m \u001b[0;34m\"Cette fonction ne mache pas pour le mdp: Password\"\u001b[0m\u001b[0;34m\u001b[0m\u001b[0;34m\u001b[0m\u001b[0m\n\u001b[1;32m      3\u001b[0m \u001b[0;32massert\u001b[0m \u001b[0mverification\u001b[0m\u001b[0;34m(\u001b[0m\u001b[0;34m'Passw0rd'\u001b[0m\u001b[0;34m)\u001b[0m \u001b[0;34m==\u001b[0m \u001b[0;32mFalse\u001b[0m\u001b[0;34m,\u001b[0m \u001b[0;34m\"Cette fonction ne mache pas pour le mdp: Passw0rd\"\u001b[0m\u001b[0;34m\u001b[0m\u001b[0;34m\u001b[0m\u001b[0m\n\u001b[1;32m      4\u001b[0m \u001b[0;32massert\u001b[0m \u001b[0mverification\u001b[0m\u001b[0;34m(\u001b[0m\u001b[0;34m'Passw0rd!'\u001b[0m\u001b[0;34m)\u001b[0m \u001b[0;34m==\u001b[0m \u001b[0;32mTrue\u001b[0m\u001b[0;34m,\u001b[0m \u001b[0;34m\"Cette fonction ne mache pas pour le mdp: Passw0rd!\"\u001b[0m\u001b[0;34m\u001b[0m\u001b[0;34m\u001b[0m\u001b[0m\n\u001b[1;32m      5\u001b[0m \u001b[0;32massert\u001b[0m \u001b[0mverification\u001b[0m\u001b[0;34m(\u001b[0m\u001b[0;34m''\u001b[0m\u001b[0;34m)\u001b[0m \u001b[0;34m==\u001b[0m \u001b[0;32mFalse\u001b[0m\u001b[0;34m,\u001b[0m \u001b[0;34m\"Cette fonction ne mache pas pour le mdp: ''\"\u001b[0m\u001b[0;34m\u001b[0m\u001b[0;34m\u001b[0m\u001b[0m\n",
      "\u001b[0;31mNameError\u001b[0m: name 'verification' is not defined"
     ]
    }
   ],
   "source": [
    "assert verification('password') == False, \"Cette fonction ne mache pas pour le mdp: password\"\n",
    "assert verification('Password') == False, \"Cette fonction ne mache pas pour le mdp: Password\"\n",
    "assert verification('Passw0rd') == False, \"Cette fonction ne mache pas pour le mdp: Passw0rd\"\n",
    "assert verification('Passw0rd!') == True, \"Cette fonction ne mache pas pour le mdp: Passw0rd!\"\n",
    "assert verification('') == False, \"Cette fonction ne mache pas pour le mdp: ''\"\n",
    "assert verification('MotDePasseBeaucoupTropLong') == False, \"Cette fonction ne mache pas pour le mdp: MotDePasseBeaucoupTropLong\"\n",
    "assert verification('Corr3ct*') == True, \"Cette fonction ne mache pas pour le mdp: Corr3ct*\"\n",
    "assert verification('(0urT') == False, \"Cette fonction ne mache pas pour le mdp: (0urT\""
   ]
  },
  {
   "cell_type": "markdown",
   "metadata": {},
   "source": [
    "## Exercice 2: Sapin de pâques"
   ]
  },
  {
   "cell_type": "markdown",
   "metadata": {},
   "source": [
    "Dans cet exercice vous allez écrire un programme qui affichera un sapin de noël de hauteur n (n étant un entier)."
   ]
  },
  {
   "cell_type": "raw",
   "metadata": {},
   "source": [
    "Sapin de taille n = 3:\n",
    "\n",
    "  * \n",
    " ***\n",
    "*****\n",
    "  *"
   ]
  },
  {
   "cell_type": "raw",
   "metadata": {},
   "source": [
    "Sapin de taille n = 7:\n",
    "      *\n",
    "     ***\n",
    "    *****\n",
    "   *******\n",
    "  *********\n",
    " ***********\n",
    "*************\n",
    "      *"
   ]
  },
  {
   "cell_type": "raw",
   "metadata": {},
   "source": [
    "Sapin de taille n = 11:\n",
    "          *\n",
    "         ***\n",
    "        *****\n",
    "       *******\n",
    "      *********\n",
    "     ***********\n",
    "    *************\n",
    "   ***************\n",
    "  *****************\n",
    " *******************\n",
    "*********************\n",
    "          *"
   ]
  },
  {
   "cell_type": "code",
   "execution_count": null,
   "metadata": {},
   "outputs": [],
   "source": []
  },
  {
   "cell_type": "markdown",
   "metadata": {},
   "source": [
    "## Exercice 3: Dis moi ton age et je te dirais si tu auras un AVC."
   ]
  },
  {
   "cell_type": "markdown",
   "metadata": {},
   "source": [
    "### Question 1: Importer les donnés du fichier `healthcare-dataset-stroke-data.csv` dans un dataframe appellé `data` et afficher ce dernier"
   ]
  },
  {
   "cell_type": "code",
   "execution_count": null,
   "metadata": {},
   "outputs": [],
   "source": []
  },
  {
   "cell_type": "markdown",
   "metadata": {},
   "source": [
    "### Question 2: Dans la colonne `gender` combien y a t'il de `Male` et de `Female` ?"
   ]
  },
  {
   "cell_type": "code",
   "execution_count": null,
   "metadata": {},
   "outputs": [],
   "source": []
  },
  {
   "cell_type": "markdown",
   "metadata": {},
   "source": [
    "### Question 3: Enlever la ligne ayant un gender `Other` du dataframe"
   ]
  },
  {
   "cell_type": "code",
   "execution_count": null,
   "metadata": {},
   "outputs": [],
   "source": []
  },
  {
   "cell_type": "markdown",
   "metadata": {},
   "source": [
    "### Question 4: Dans la colonne `gender` changer les `Male` et `Female` en `0` et en `1`"
   ]
  },
  {
   "cell_type": "code",
   "execution_count": null,
   "metadata": {},
   "outputs": [],
   "source": []
  },
  {
   "cell_type": "markdown",
   "metadata": {},
   "source": [
    "### Question 5: Regarder si il y a des valeurs manquantes dans les colones `age`, `gender` et `stroke`. Si oui décider comment gérer ces valeurs manquantes."
   ]
  },
  {
   "cell_type": "code",
   "execution_count": null,
   "metadata": {},
   "outputs": [],
   "source": []
  },
  {
   "cell_type": "markdown",
   "metadata": {},
   "source": [
    "### Question 6: Quelle est la valeur minimale et maximale de la colonne `age` ?"
   ]
  },
  {
   "cell_type": "code",
   "execution_count": null,
   "metadata": {},
   "outputs": [],
   "source": []
  },
  {
   "cell_type": "markdown",
   "metadata": {},
   "source": [
    "### Question 7: Quel est le pourcentage de patients ayant eu un AVC ?"
   ]
  },
  {
   "cell_type": "code",
   "execution_count": null,
   "metadata": {},
   "outputs": [],
   "source": []
  },
  {
   "cell_type": "markdown",
   "metadata": {},
   "source": [
    "### Question 8: Faire un graphe de la répartion de l'age des patients selon la colonne `gender`"
   ]
  },
  {
   "cell_type": "code",
   "execution_count": null,
   "metadata": {},
   "outputs": [],
   "source": []
  },
  {
   "cell_type": "markdown",
   "metadata": {},
   "source": [
    "### Question 9: Est ce que l'age des patients est uniformément réparti pour les deux sexes ? "
   ]
  },
  {
   "cell_type": "markdown",
   "metadata": {},
   "source": []
  },
  {
   "cell_type": "markdown",
   "metadata": {},
   "source": [
    "### Question 10: Est ce que l'age des patients est uniformément réparti de manière globale ? "
   ]
  },
  {
   "cell_type": "markdown",
   "metadata": {},
   "source": []
  },
  {
   "cell_type": "markdown",
   "metadata": {},
   "source": [
    "### Question 11: Faire un graphe de la répartion de l'age selon la colonne `stroke`"
   ]
  },
  {
   "cell_type": "code",
   "execution_count": null,
   "metadata": {},
   "outputs": [],
   "source": []
  },
  {
   "cell_type": "markdown",
   "metadata": {},
   "source": [
    "### Question 12: Pensez vous que l'âge soit un facteur déterminant pour prédire le risque d'AVC ?"
   ]
  },
  {
   "cell_type": "markdown",
   "metadata": {},
   "source": []
  },
  {
   "cell_type": "markdown",
   "metadata": {},
   "source": [
    "### Question 13: Quelle est la répartition du genre des patients ayant eu un AVC et ceux n'ayant pas eu un AVC ?"
   ]
  },
  {
   "cell_type": "code",
   "execution_count": null,
   "metadata": {},
   "outputs": [],
   "source": []
  },
  {
   "cell_type": "markdown",
   "metadata": {},
   "source": [
    "### Question 14: Pensez vous que le sexe soit un facteur déterminant pour prédire le rique d'AVC ?"
   ]
  },
  {
   "cell_type": "markdown",
   "metadata": {},
   "source": []
  },
  {
   "cell_type": "markdown",
   "metadata": {},
   "source": [
    "## Exercice 4: Quelle Classe !!!"
   ]
  },
  {
   "cell_type": "markdown",
   "metadata": {},
   "source": [
    "Dans cet exercice on va essayer de recréer le réseau de gens dans votre classe qui ont déjà travaillé ensemble pour un projet/devoirs."
   ]
  },
  {
   "cell_type": "markdown",
   "metadata": {},
   "source": [
    "Pour cela on va créer 2 classes\n",
    "* la classe `Eleve` qui contiendra en attribut le `prenom`, le `nom` et la liste des `autres` élèves avec lequel celui ci à déjà travaillé et des methodes (= fonctions) pour afficher et changer chacun des attributs \n",
    "* la classe `Licence` qui contiendra en attribut un set d'elèves appelée `set_eleves` et en méthodes: une fonction pour afficher `set_eleves`, une fonction pour ajouter un elève à `set_eleves` et une fonction pour enlever un élève donné de `set_eleves`"
   ]
  },
  {
   "cell_type": "markdown",
   "metadata": {},
   "source": [
    "### Question 1: complétez les \"???\" dans la classe `Eleve` ci dessous"
   ]
  },
  {
   "cell_type": "code",
   "execution_count": 2,
   "metadata": {},
   "outputs": [
    {
     "ename": "SyntaxError",
     "evalue": "invalid syntax (<ipython-input-2-080b50d7c859>, line 5)",
     "output_type": "error",
     "traceback": [
      "\u001b[0;36m  File \u001b[0;32m\"<ipython-input-2-080b50d7c859>\"\u001b[0;36m, line \u001b[0;32m5\u001b[0m\n\u001b[0;31m    def __init__(self, \"???\"\"):\u001b[0m\n\u001b[0m                       ^\u001b[0m\n\u001b[0;31mSyntaxError\u001b[0m\u001b[0;31m:\u001b[0m invalid syntax\n"
     ]
    }
   ],
   "source": [
    "#On définit notre classe\n",
    "class Eleve:\n",
    "    \n",
    "    #On definit notre constructeur, c'est obligatoire parce que cela permet de créer des instances de notre classe \n",
    "    def __init__(self, \"???\"\"):\n",
    "        #On définit les attributs de notre classe\n",
    "        self.prenom = \"???\"\n",
    "        self.nom = \"???\"\n",
    "        self.autres = \"???\"\n",
    "                 \n",
    "    #On définit les méthodes (=fonctions) de notre classe \n",
    "    def get_prenom(self): #Affiche l'attribut prenom\n",
    "        \"???\"\n",
    "    def get_nom(self): #Affiche l'attribut nom\n",
    "        \"???\"\n",
    "    def get_autres(self): #Affiche l'attribut autres\n",
    "        \"???\"\n",
    "    def set_prenom(self, \"???\"): #Change l'attribut prenom\n",
    "        \"???\"         \n",
    "    def set_nom(self, \"???\"): #Change l'attribut nom\n",
    "        \"???\"\n",
    "    def set_autres(self, \"???\"): #Change l'attribut autre\n",
    "        \"???\"\n",
    "                 \n",
    "            \n",
    "                 "
   ]
  },
  {
   "cell_type": "markdown",
   "metadata": {},
   "source": [
    "### Question 2: Construisez 5 instances de la classe `Elève` (choisissez 5 élèves de votre classe en gros)"
   ]
  },
  {
   "cell_type": "code",
   "execution_count": null,
   "metadata": {},
   "outputs": [],
   "source": [
    "# camille = Eleve('camille', 'duquesne', [])"
   ]
  },
  {
   "cell_type": "markdown",
   "metadata": {},
   "source": [
    "### Question 3: Ecrivez la classe `Licence`"
   ]
  },
  {
   "cell_type": "code",
   "execution_count": null,
   "metadata": {},
   "outputs": [],
   "source": []
  },
  {
   "cell_type": "markdown",
   "metadata": {},
   "source": [
    "### Question 4: Créez une instance de `Licence` appellée `L1`"
   ]
  },
  {
   "cell_type": "code",
   "execution_count": null,
   "metadata": {},
   "outputs": [],
   "source": []
  },
  {
   "cell_type": "markdown",
   "metadata": {},
   "source": [
    "### Question 4: Ajoutez à votre classe `Elève` une méthode `get_working_tuples()` qui vous renvoie une liste de tuples des binomes de travail"
   ]
  },
  {
   "cell_type": "markdown",
   "metadata": {},
   "source": [
    "Par exemple si j'ai travaillé avec `['virginie', 'typhaine', 'david']`, `camille.get_working_tuples()` va me return `[('camille', 'virginie'), ('camille', 'typhaine'), ('camille', 'david')]` "
   ]
  },
  {
   "cell_type": "markdown",
   "metadata": {},
   "source": [
    "cf définition de classe au dessus"
   ]
  },
  {
   "cell_type": "code",
   "execution_count": null,
   "metadata": {},
   "outputs": [],
   "source": []
  },
  {
   "cell_type": "markdown",
   "metadata": {},
   "source": [
    "### Question 5: Ajoutez à votre classe `Licence` une méthode qui s'appelle `get_binomes()` et qui return la liste de tout les tuples de binomes de votre classe. (En gros le resultat de get_working_tuples() mais pour tous les élèves de Licence)"
   ]
  },
  {
   "cell_type": "markdown",
   "metadata": {},
   "source": [
    "cf définition de classe au dessus"
   ]
  },
  {
   "cell_type": "code",
   "execution_count": null,
   "metadata": {},
   "outputs": [],
   "source": []
  },
  {
   "cell_type": "markdown",
   "metadata": {},
   "source": [
    "### Question 6: Executez la cellule suivante pour voir votre réseaux d'élèves de votre classe ayant travaillé ensemble !"
   ]
  },
  {
   "cell_type": "code",
   "execution_count": null,
   "metadata": {},
   "outputs": [],
   "source": [
    "import networkx as nx\n",
    "G = nx.Graph()\n",
    "G.add_edges_from(L1.get_binomes())\n",
    "nx.draw_networkx(G, node_color='r', edge_color='b')"
   ]
  },
  {
   "cell_type": "markdown",
   "metadata": {},
   "source": [
    "### Question Bonus: Ajoutez la méthode __repr__ à vos deux classe pour afficher de manière propre tous les attributs de vos classes"
   ]
  },
  {
   "cell_type": "code",
   "execution_count": null,
   "metadata": {},
   "outputs": [],
   "source": []
  }
 ],
 "metadata": {
  "kernelspec": {
   "display_name": "Python 3",
   "language": "python",
   "name": "python3"
  },
  "language_info": {
   "codemirror_mode": {
    "name": "ipython",
    "version": 3
   },
   "file_extension": ".py",
   "mimetype": "text/x-python",
   "name": "python",
   "nbconvert_exporter": "python",
   "pygments_lexer": "ipython3",
   "version": "3.8.8"
  }
 },
 "nbformat": 4,
 "nbformat_minor": 4
}
