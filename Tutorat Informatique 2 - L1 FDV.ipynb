{
 "cells": [
  {
   "cell_type": "markdown",
   "metadata": {},
   "source": [
    "# Tutorat Informatique 2"
   ]
  },
  {
   "cell_type": "markdown",
   "metadata": {},
   "source": [
    "31/03/2021 - Camille Duquesne"
   ]
  },
  {
   "cell_type": "markdown",
   "metadata": {},
   "source": [
    "Les trois exercices se font indépendament des uns des autres."
   ]
  },
  {
   "cell_type": "markdown",
   "metadata": {},
   "source": [
    "Les compétences travaillés dans ce tutorat sont: \n",
    "* utilisation des boucles for\n",
    "* utilisation de la fonction range()\n",
    "* utilisation de la condition if\n",
    "* manipulation de string\n",
    "* manipulation de liste (append())\n",
    "* utilisation de librairies (numpy, matplotlib, string, math)\n",
    "* définition et appel de fonctions\n",
    "* manipulation de dictionnaires (keys(), values())"
   ]
  },
  {
   "cell_type": "markdown",
   "metadata": {},
   "source": [
    "## **Exercice 1 - Message codé**"
   ]
  },
  {
   "cell_type": "markdown",
   "metadata": {},
   "source": [
    "Le but de cet exercice sera de pouvoir coder un message avec une encryption de 'caesar cypher wheel'. https://en.wikipedia.org/wiki/Caesar_cipher\n",
    "Par exemple 'ok boomer' deviendra 'so fssqiv' avec une clé d'encrytpion de 4."
   ]
  },
  {
   "cell_type": "markdown",
   "metadata": {},
   "source": [
    "**Question 1:** Créez un dictionnaire nommé 'alphabet' avec en clé les nombres de 1 à 26 et en valeurs les lettres de l'alphabet."
   ]
  },
  {
   "cell_type": "code",
   "execution_count": null,
   "metadata": {},
   "outputs": [],
   "source": []
  },
  {
   "cell_type": "markdown",
   "metadata": {},
   "source": [
    "**Question 2**: Affichez toutes les clefs de votre dictionnaire 'alphabet'."
   ]
  },
  {
   "cell_type": "code",
   "execution_count": null,
   "metadata": {},
   "outputs": [],
   "source": []
  },
  {
   "cell_type": "markdown",
   "metadata": {},
   "source": [
    "**Question 3**: Affichez toutes les valeurs de votre dictionnaire 'alphabet'."
   ]
  },
  {
   "cell_type": "code",
   "execution_count": null,
   "metadata": {},
   "outputs": [],
   "source": []
  },
  {
   "cell_type": "markdown",
   "metadata": {},
   "source": [
    "**Question 4**: Transformez votre message en une liste de chaque caractère du message."
   ]
  },
  {
   "cell_type": "code",
   "execution_count": null,
   "metadata": {},
   "outputs": [],
   "source": []
  },
  {
   "cell_type": "markdown",
   "metadata": {},
   "source": [
    "**Question 5**: Transformez votre liste de caractères, en liste de nombres. Chaque nombre correspond à la position de la lettre dans l'alpahbet (a = 1 et z = 26 par exemple)."
   ]
  },
  {
   "cell_type": "code",
   "execution_count": null,
   "metadata": {},
   "outputs": [],
   "source": []
  },
  {
   "cell_type": "markdown",
   "metadata": {},
   "source": [
    "**Question 6**: Choisissez une clé d'encryption, soit un entier entre 1 et 26. Ajoutez la valeur de votre clé d'encryption à chaque nombre de votre liste précédente de numéros. "
   ]
  },
  {
   "cell_type": "code",
   "execution_count": null,
   "metadata": {},
   "outputs": [],
   "source": []
  },
  {
   "cell_type": "markdown",
   "metadata": {},
   "source": [
    "**Question 7:** Retransfrormez votre liste de nombres en lettres en utilisant le dictionnaire."
   ]
  },
  {
   "cell_type": "code",
   "execution_count": null,
   "metadata": {},
   "outputs": [],
   "source": []
  },
  {
   "cell_type": "markdown",
   "metadata": {},
   "source": [
    "**Question 8:** Définissez une fonction 'encryption' qui prend en entrée un message sous forme de string et une clé d'encryption sous forme de nombre. Cette fonction rentournera en sortie le message encrypté sous forme de string."
   ]
  },
  {
   "cell_type": "code",
   "execution_count": null,
   "metadata": {},
   "outputs": [],
   "source": []
  },
  {
   "cell_type": "markdown",
   "metadata": {},
   "source": [
    "**Question 9:** Définissez une fonction 'decryption' qui prend en entrée un message encrypté sous forme de string et une clé d'encryption sous forme de nombre. Cette fonction rentournera en sortie le message décrypté sous forme de string."
   ]
  },
  {
   "cell_type": "code",
   "execution_count": null,
   "metadata": {},
   "outputs": [],
   "source": []
  },
  {
   "cell_type": "markdown",
   "metadata": {},
   "source": [
    "**Question 10:** Testez vos deux fonction encryption et decryption avec différentes clé d'encyptions et différents messages codés."
   ]
  },
  {
   "cell_type": "code",
   "execution_count": null,
   "metadata": {},
   "outputs": [],
   "source": []
  },
  {
   "cell_type": "markdown",
   "metadata": {},
   "source": [
    "## **Exercice 2 - Vous avez la carte du magasin ?** "
   ]
  },
  {
   "cell_type": "markdown",
   "metadata": {},
   "source": [
    "Vous avez une liste de prix d'articles que vous avez acheté dans la liste 'courses' ci dessous. "
   ]
  },
  {
   "cell_type": "code",
   "execution_count": 1,
   "metadata": {},
   "outputs": [],
   "source": [
    "courses = [13, 44.98, 35.0, 17, 25, 7, 3.55, 5.25, 4.98]"
   ]
  },
  {
   "cell_type": "markdown",
   "metadata": {},
   "source": [
    "**Question 1:** Combien d'articles avez vous acheté ?"
   ]
  },
  {
   "cell_type": "code",
   "execution_count": null,
   "metadata": {},
   "outputs": [],
   "source": []
  },
  {
   "cell_type": "markdown",
   "metadata": {},
   "source": [
    "**Question 2:** Quelle est la somme de vos courses ?"
   ]
  },
  {
   "cell_type": "code",
   "execution_count": null,
   "metadata": {},
   "outputs": [],
   "source": []
  },
  {
   "cell_type": "markdown",
   "metadata": {},
   "source": [
    "**Question 3:** Quel est le prix le plus élevé dans la liste ?"
   ]
  },
  {
   "cell_type": "code",
   "execution_count": null,
   "metadata": {},
   "outputs": [],
   "source": []
  },
  {
   "cell_type": "markdown",
   "metadata": {},
   "source": [
    "**Question 4:** Quel est le prix le plus bas dans la liste ?"
   ]
  },
  {
   "cell_type": "code",
   "execution_count": null,
   "metadata": {},
   "outputs": [],
   "source": []
  },
  {
   "cell_type": "markdown",
   "metadata": {},
   "source": [
    "**Question 5:** Vous souhaitez savoir combien vous auriez économisé si vous aviez eu la carte du magasin. La carte du magasin donne une réduction de 5% pour tout article de plus de 15 euros. Donnez la somme que vous auriez économisé en euros."
   ]
  },
  {
   "cell_type": "code",
   "execution_count": null,
   "metadata": {},
   "outputs": [],
   "source": []
  },
  {
   "cell_type": "markdown",
   "metadata": {},
   "source": [
    "**Question 6:** Créez une fonction 'carte_reduction' qui fait le même calcul que la question 5. Cette fonction prend en entrée une liste de prix d'articles de courses et elle retourne la somme d'argent économisé avec la carte du magasin."
   ]
  },
  {
   "cell_type": "code",
   "execution_count": null,
   "metadata": {},
   "outputs": [],
   "source": []
  },
  {
   "cell_type": "markdown",
   "metadata": {},
   "source": [
    "**Question 7:** Utilisez votre fonction 'carte_reduction' avec différentes listes d'articles de courses pour voir combien vous économiseriez à chaque fois."
   ]
  },
  {
   "cell_type": "code",
   "execution_count": 2,
   "metadata": {},
   "outputs": [
    {
     "ename": "NameError",
     "evalue": "name 'carte_reduction' is not defined",
     "output_type": "error",
     "traceback": [
      "\u001b[0;31m---------------------------------------------------------------------------\u001b[0m",
      "\u001b[0;31mNameError\u001b[0m                                 Traceback (most recent call last)",
      "\u001b[0;32m<ipython-input-2-4b115988620d>\u001b[0m in \u001b[0;36m<module>\u001b[0;34m\u001b[0m\n\u001b[1;32m      3\u001b[0m \u001b[0mcourses3\u001b[0m \u001b[0;34m=\u001b[0m \u001b[0;34m[\u001b[0m\u001b[0;36m0.7\u001b[0m\u001b[0;34m,\u001b[0m \u001b[0;36m7.88\u001b[0m\u001b[0;34m,\u001b[0m \u001b[0;36m6.66\u001b[0m\u001b[0;34m,\u001b[0m \u001b[0;36m7.12\u001b[0m\u001b[0;34m,\u001b[0m \u001b[0;36m3.45\u001b[0m\u001b[0;34m,\u001b[0m \u001b[0;36m6.98\u001b[0m\u001b[0;34m,\u001b[0m \u001b[0;36m3.89\u001b[0m\u001b[0;34m,\u001b[0m \u001b[0;36m6.7\u001b[0m\u001b[0;34m,\u001b[0m \u001b[0;36m2\u001b[0m\u001b[0;34m,\u001b[0m \u001b[0;36m7.8\u001b[0m\u001b[0;34m,\u001b[0m \u001b[0;36m2.2\u001b[0m\u001b[0;34m,\u001b[0m \u001b[0;36m6.5\u001b[0m\u001b[0;34m,\u001b[0m \u001b[0;36m4.8\u001b[0m \u001b[0;34m]\u001b[0m\u001b[0;34m\u001b[0m\u001b[0;34m\u001b[0m\u001b[0m\n\u001b[1;32m      4\u001b[0m \u001b[0;34m\u001b[0m\u001b[0m\n\u001b[0;32m----> 5\u001b[0;31m \u001b[0mprint\u001b[0m\u001b[0;34m(\u001b[0m\u001b[0mcarte_reduction\u001b[0m\u001b[0;34m(\u001b[0m\u001b[0mcourses\u001b[0m\u001b[0;34m)\u001b[0m\u001b[0;34m)\u001b[0m\u001b[0;34m\u001b[0m\u001b[0;34m\u001b[0m\u001b[0m\n\u001b[0m\u001b[1;32m      6\u001b[0m \u001b[0mprint\u001b[0m\u001b[0;34m(\u001b[0m\u001b[0mcarte_reduction\u001b[0m\u001b[0;34m(\u001b[0m\u001b[0mcourses1\u001b[0m\u001b[0;34m)\u001b[0m\u001b[0;34m)\u001b[0m\u001b[0;34m\u001b[0m\u001b[0;34m\u001b[0m\u001b[0m\n\u001b[1;32m      7\u001b[0m \u001b[0mprint\u001b[0m\u001b[0;34m(\u001b[0m\u001b[0mcarte_reduction\u001b[0m\u001b[0;34m(\u001b[0m\u001b[0mcourses2\u001b[0m\u001b[0;34m)\u001b[0m\u001b[0;34m)\u001b[0m\u001b[0;34m\u001b[0m\u001b[0;34m\u001b[0m\u001b[0m\n",
      "\u001b[0;31mNameError\u001b[0m: name 'carte_reduction' is not defined"
     ]
    }
   ],
   "source": [
    "courses1 = [23, 4.98, 30, 1, 2, 2.7, 3.18, 5.45, 14.98]\n",
    "courses2 = [83, 2.99, 1, 2, 3.2, 4, 6.5, 7.4, 8.9, 1.5, 3, 9.5, 12, 2.7, 5.5, 9.9, 15, 10]\n",
    "courses3 = [0.7, 7.88, 6.66, 7.12, 3.45, 6.98, 3.89, 6.7, 2, 7.8, 2.2, 6.5, 4.8 ]\n",
    "\n",
    "print(carte_reduction(courses))\n",
    "print(carte_reduction(courses1))\n",
    "print(carte_reduction(courses2))\n",
    "print(carte_reduction(courses3))"
   ]
  },
  {
   "cell_type": "markdown",
   "metadata": {},
   "source": [
    "## **Exercice 3** - Love is in the air"
   ]
  },
  {
   "cell_type": "markdown",
   "metadata": {},
   "source": [
    "Dans cet exercice nous allons tracer un graphe qui à une forme de coeur. L'équation est la suivante:"
   ]
  },
  {
   "cell_type": "raw",
   "metadata": {},
   "source": [
    "x = 16 * sin3(θ)\n",
    "y = 13 * cos(θ) - 5 * cos(2θ) - 2*cos(3θ) - cos(4θ) "
   ]
  },
  {
   "cell_type": "markdown",
   "metadata": {},
   "source": [
    "**Question 1:** Creer une liste theta, avec 100 valeurs ayant le même écart entre 0 et 2*pi"
   ]
  },
  {
   "cell_type": "code",
   "execution_count": null,
   "metadata": {},
   "outputs": [],
   "source": [
    "#Tips: regarder np.linspace()\n"
   ]
  },
  {
   "cell_type": "markdown",
   "metadata": {},
   "source": [
    "**Question 2:** Creer une liste x, selon l'équation donné dans l'énnoncé, qui lie un point de coordoné en x pour chaque point de la liste theta."
   ]
  },
  {
   "cell_type": "code",
   "execution_count": null,
   "metadata": {},
   "outputs": [],
   "source": []
  },
  {
   "cell_type": "markdown",
   "metadata": {},
   "source": [
    "**Question 3:** Creer une liste y, selon l'équation donné dans l'énnoncé, qui lie un point de coordoné en y pour chaque point de la liste theta."
   ]
  },
  {
   "cell_type": "code",
   "execution_count": null,
   "metadata": {},
   "outputs": [],
   "source": []
  },
  {
   "cell_type": "markdown",
   "metadata": {},
   "source": [
    "**Question 4:** Tracer le graphe grâce à la librairie matplotlib et avec les listes x et y calculés dans les questions précédentes."
   ]
  },
  {
   "cell_type": "code",
   "execution_count": null,
   "metadata": {},
   "outputs": [],
   "source": []
  },
  {
   "cell_type": "code",
   "execution_count": null,
   "metadata": {},
   "outputs": [],
   "source": []
  }
 ],
 "metadata": {
  "kernelspec": {
   "display_name": "Python 3",
   "language": "python",
   "name": "python3"
  },
  "language_info": {
   "codemirror_mode": {
    "name": "ipython",
    "version": 3
   },
   "file_extension": ".py",
   "mimetype": "text/x-python",
   "name": "python",
   "nbconvert_exporter": "python",
   "pygments_lexer": "ipython3",
   "version": "3.8.8"
  },
  "toc": {
   "base_numbering": 1,
   "nav_menu": {},
   "number_sections": true,
   "sideBar": true,
   "skip_h1_title": false,
   "title_cell": "Table of Contents",
   "title_sidebar": "Contents",
   "toc_cell": false,
   "toc_position": {},
   "toc_section_display": true,
   "toc_window_display": false
  },
  "widgets": {
   "application/vnd.jupyter.widget-state+json": {
    "state": {},
    "version_major": 2,
    "version_minor": 0
   }
  }
 },
 "nbformat": 4,
 "nbformat_minor": 2
}
