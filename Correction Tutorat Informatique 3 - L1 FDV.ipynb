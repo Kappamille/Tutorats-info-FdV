{
 "cells": [
  {
   "cell_type": "markdown",
   "metadata": {},
   "source": [
    "# Correction Tutorat Informatique 3"
   ]
  },
  {
   "cell_type": "markdown",
   "metadata": {},
   "source": [
    "14/04/21 - Camille Duquesne"
   ]
  },
  {
   "cell_type": "markdown",
   "metadata": {},
   "source": [
    "Les exercices se font indépendament des uns des autres."
   ]
  },
  {
   "cell_type": "markdown",
   "metadata": {},
   "source": [
    "Les compétence travaillés dans ce tutorat sont:\n",
    "* Les conditional statements (while, if, elif, else)\n",
    "* Les boucles for\n",
    "* La manipulation de strings\n",
    "* La définition et l'utilisation de fonctions\n",
    "* L'utilisation de la librairie string (ou re)\n",
    "* L'utilisation des librairies pandas, numpy, matplotlib, seaborn\n",
    "* La définition et l'utilisation de classes"
   ]
  },
  {
   "cell_type": "markdown",
   "metadata": {},
   "source": [
    "## Exercice 1: Votre mot de passe est incorrect"
   ]
  },
  {
   "cell_type": "markdown",
   "metadata": {},
   "source": [
    "Dans cet exercice nous allons écrire une fonction appellée `verification` qui prendra en entrée un mot de passe et qui retournera `True` si le mot de passe est valide ou `False` si le mot de passe n'est pas valide."
   ]
  },
  {
   "cell_type": "markdown",
   "metadata": {},
   "source": [
    "Pour que le mot de passe soit valide il doit:\n",
    "   * contenir au moins une lettre minuscule \n",
    "   * contenir au moins une lettre majuscule\n",
    "   * contenir au moins un chiffre\n",
    "   * contenir au moins un caractère spécial \n",
    "   * avoir une longeur minimale de 6 caractères\n",
    "   * avoir une longeur maximale de 16 caractères "
   ]
  },
  {
   "cell_type": "markdown",
   "metadata": {},
   "source": [
    "**Tips**: vous pouvez consulter les liens suivants\n",
    "   * https://docs.python.org/3/library/string.html\n",
    "   * https://docs.python.org/3/tutorial/controlflow.html\n",
    "   * https://www.tutorialspoint.com/python/python_if_else.htm\n",
    "   * https://www.w3schools.com/python/python_regex.asp\n",
    "    "
   ]
  },
  {
   "cell_type": "code",
   "execution_count": 2,
   "metadata": {},
   "outputs": [],
   "source": [
    "def verification(mdp):\n",
    "    import string\n",
    "    \n",
    "    #Check si le mdp est assez long\n",
    "    if (len(mdp)<6 or len(mdp)>12):\n",
    "        return False\n",
    "    \n",
    "    #Check si il y a au moins un lettre minuscule\n",
    "    temp = False\n",
    "    for i in mdp:\n",
    "        if i in string.ascii_lowercase:\n",
    "            temp = True\n",
    "            break\n",
    "    if temp == False:\n",
    "        return False\n",
    "    \n",
    "    #Check si il y a au moins un lettre majuscule\n",
    "    temp = False\n",
    "    for i in mdp:\n",
    "        if i in string.ascii_uppercase:\n",
    "            temp = True\n",
    "            break\n",
    "    if temp == False:\n",
    "        return False\n",
    "    \n",
    "    #Check si il y a au moins un nombre\n",
    "    temp = False\n",
    "    for i in mdp:\n",
    "        if i in string.digits:\n",
    "            temp = True\n",
    "            break\n",
    "    if temp == False:\n",
    "        return False\n",
    "    \n",
    "    #Check si il y a au caractère spécial\n",
    "    temp = False\n",
    "    for i in mdp:\n",
    "        if i in string.punctuation:\n",
    "            temp = True\n",
    "            break\n",
    "    if temp == False:\n",
    "        return False\n",
    "    \n",
    "    #Si tout est passé c'est que le mdp est bon\n",
    "    return True\n",
    "    "
   ]
  },
  {
   "cell_type": "code",
   "execution_count": 3,
   "metadata": {},
   "outputs": [],
   "source": [
    "#Autre solution\n",
    "\n",
    "def verification(mdp):\n",
    "    import re\n",
    "    if (len(mdp)<6 or len(mdp)>12):\n",
    "        return False\n",
    "    elif not re.search(\"[a-z]\",mdp):\n",
    "        return False\n",
    "    elif not re.search(\"[0-9]\",mdp):\n",
    "        return False\n",
    "    elif not re.search(\"[A-Z]\",mdp):\n",
    "        return False\n",
    "    elif not re.search(\"[$#@!*]\",mdp):\n",
    "        return False\n",
    "    elif re.search(\"\\s\",mdp):\n",
    "        return False\n",
    "    else:\n",
    "        return True"
   ]
  },
  {
   "cell_type": "code",
   "execution_count": null,
   "metadata": {},
   "outputs": [],
   "source": []
  },
  {
   "cell_type": "markdown",
   "metadata": {},
   "source": [
    "Vous pouvez executer la cellule suivante pour voir si votre fonction marche bien. Si vous n'avez aucun message d'erreur c'est tout bon ! (`assert` vérifie si l'égalité qu'on lui donne est vraie ou non , si elle est fausse elle print le message d'erreur)"
   ]
  },
  {
   "cell_type": "code",
   "execution_count": 4,
   "metadata": {},
   "outputs": [],
   "source": [
    "assert verification('password') == False, \"Cette fonction ne mache pas pour le mdp: password\"\n",
    "assert verification('Password') == False, \"Cette fonction ne mache pas pour le mdp: Password\"\n",
    "assert verification('Passw0rd') == False, \"Cette fonction ne mache pas pour le mdp: Passw0rd\"\n",
    "assert verification('Passw0rd!') == True, \"Cette fonction ne mache pas pour le mdp: Passw0rd!\"\n",
    "assert verification('') == False, \"Cette fonction ne mache pas pour le mdp: ''\"\n",
    "assert verification('MotDePasseBeaucoupTropLong') == False, \"Cette fonction ne mache pas pour le mdp: MotDePasseBeaucoupTropLong\"\n",
    "assert verification('Corr3ct*') == True, \"Cette fonction ne mache pas pour le mdp: Corr3ct*\"\n",
    "assert verification('(0urT') == False, \"Cette fonction ne mache pas pour le mdp: (0urT\""
   ]
  },
  {
   "cell_type": "markdown",
   "metadata": {},
   "source": [
    "## Exercice 2: Sapin de pâques"
   ]
  },
  {
   "cell_type": "markdown",
   "metadata": {},
   "source": [
    "Dans cet exercice vous allez écrire un programme qui affichera un sapin de noël de hauteur n (n étant un entier)."
   ]
  },
  {
   "cell_type": "raw",
   "metadata": {},
   "source": [
    "Sapin de taille n = 3:\n",
    "\n",
    "  * \n",
    " ***\n",
    "*****\n",
    "  *"
   ]
  },
  {
   "cell_type": "raw",
   "metadata": {},
   "source": [
    "Sapin de taille n = 7:\n",
    "      *\n",
    "     ***\n",
    "    *****\n",
    "   *******\n",
    "  *********\n",
    " ***********\n",
    "*************\n",
    "      *"
   ]
  },
  {
   "cell_type": "raw",
   "metadata": {},
   "source": [
    "Sapin de taille n = 11:\n",
    "          *\n",
    "         ***\n",
    "        *****\n",
    "       *******\n",
    "      *********\n",
    "     ***********\n",
    "    *************\n",
    "   ***************\n",
    "  *****************\n",
    " *******************\n",
    "*********************\n",
    "          *"
   ]
  },
  {
   "cell_type": "code",
   "execution_count": 5,
   "metadata": {},
   "outputs": [
    {
     "name": "stdout",
     "output_type": "stream",
     "text": [
      "                     *                     \n",
      "                    ***                    \n",
      "                   *****                   \n",
      "                  *******                  \n",
      "                 *********                 \n",
      "                ***********                \n",
      "               *************               \n",
      "              ***************              \n",
      "             *****************             \n",
      "            *******************            \n",
      "           *********************           \n",
      "          ***********************          \n",
      "         *************************         \n",
      "        ***************************        \n",
      "       *****************************       \n",
      "      *******************************      \n",
      "     *********************************     \n",
      "    ***********************************    \n",
      "   *************************************   \n",
      "  ***************************************  \n",
      " ***************************************** \n",
      "*******************************************\n",
      "                     *                     \n"
     ]
    }
   ],
   "source": [
    "n = 22\n",
    "\n",
    "for i in range(0, n):\n",
    "    row = \"\"\n",
    "    #On ajoute les espaces à droite\n",
    "    row += ((n-1)- i)*\" \"\n",
    "    #On ajoute les étoiles\n",
    "    row +=  \"*\"*2*i + \"*\"\n",
    "    #On ajoute les espaces à gauche\n",
    "    row += ((n-1)- i)*\" \"\n",
    "    print(row)\n",
    "\n",
    "#On ajoute le petit tronc de bois du bas\n",
    "bas = (n-1)*\" \" + \"*\" + (n-1)*\" \"\n",
    "print(bas)"
   ]
  },
  {
   "cell_type": "markdown",
   "metadata": {},
   "source": [
    "## Exercice 3: Dis moi ton age et je te dirais si tu auras un AVC."
   ]
  },
  {
   "cell_type": "markdown",
   "metadata": {},
   "source": [
    "### Question 1: Importer les donnés du fichier `healthcare-dataset-stroke-data.csv` dans un dataframe appellé `data` et afficher ce dernier"
   ]
  },
  {
   "cell_type": "code",
   "execution_count": 6,
   "metadata": {},
   "outputs": [
    {
     "data": {
      "text/html": [
       "<div>\n",
       "<style scoped>\n",
       "    .dataframe tbody tr th:only-of-type {\n",
       "        vertical-align: middle;\n",
       "    }\n",
       "\n",
       "    .dataframe tbody tr th {\n",
       "        vertical-align: top;\n",
       "    }\n",
       "\n",
       "    .dataframe thead th {\n",
       "        text-align: right;\n",
       "    }\n",
       "</style>\n",
       "<table border=\"1\" class=\"dataframe\">\n",
       "  <thead>\n",
       "    <tr style=\"text-align: right;\">\n",
       "      <th></th>\n",
       "      <th>id</th>\n",
       "      <th>gender</th>\n",
       "      <th>age</th>\n",
       "      <th>hypertension</th>\n",
       "      <th>heart_disease</th>\n",
       "      <th>ever_married</th>\n",
       "      <th>work_type</th>\n",
       "      <th>Residence_type</th>\n",
       "      <th>avg_glucose_level</th>\n",
       "      <th>bmi</th>\n",
       "      <th>smoking_status</th>\n",
       "      <th>stroke</th>\n",
       "    </tr>\n",
       "  </thead>\n",
       "  <tbody>\n",
       "    <tr>\n",
       "      <th>0</th>\n",
       "      <td>9046</td>\n",
       "      <td>Male</td>\n",
       "      <td>67.0</td>\n",
       "      <td>0</td>\n",
       "      <td>1</td>\n",
       "      <td>Yes</td>\n",
       "      <td>Private</td>\n",
       "      <td>Urban</td>\n",
       "      <td>228.69</td>\n",
       "      <td>36.6</td>\n",
       "      <td>formerly smoked</td>\n",
       "      <td>1</td>\n",
       "    </tr>\n",
       "    <tr>\n",
       "      <th>1</th>\n",
       "      <td>51676</td>\n",
       "      <td>Female</td>\n",
       "      <td>61.0</td>\n",
       "      <td>0</td>\n",
       "      <td>0</td>\n",
       "      <td>Yes</td>\n",
       "      <td>Self-employed</td>\n",
       "      <td>Rural</td>\n",
       "      <td>202.21</td>\n",
       "      <td>NaN</td>\n",
       "      <td>never smoked</td>\n",
       "      <td>1</td>\n",
       "    </tr>\n",
       "    <tr>\n",
       "      <th>2</th>\n",
       "      <td>31112</td>\n",
       "      <td>Male</td>\n",
       "      <td>80.0</td>\n",
       "      <td>0</td>\n",
       "      <td>1</td>\n",
       "      <td>Yes</td>\n",
       "      <td>Private</td>\n",
       "      <td>Rural</td>\n",
       "      <td>105.92</td>\n",
       "      <td>32.5</td>\n",
       "      <td>never smoked</td>\n",
       "      <td>1</td>\n",
       "    </tr>\n",
       "    <tr>\n",
       "      <th>3</th>\n",
       "      <td>60182</td>\n",
       "      <td>Female</td>\n",
       "      <td>49.0</td>\n",
       "      <td>0</td>\n",
       "      <td>0</td>\n",
       "      <td>Yes</td>\n",
       "      <td>Private</td>\n",
       "      <td>Urban</td>\n",
       "      <td>171.23</td>\n",
       "      <td>34.4</td>\n",
       "      <td>smokes</td>\n",
       "      <td>1</td>\n",
       "    </tr>\n",
       "    <tr>\n",
       "      <th>4</th>\n",
       "      <td>1665</td>\n",
       "      <td>Female</td>\n",
       "      <td>79.0</td>\n",
       "      <td>1</td>\n",
       "      <td>0</td>\n",
       "      <td>Yes</td>\n",
       "      <td>Self-employed</td>\n",
       "      <td>Rural</td>\n",
       "      <td>174.12</td>\n",
       "      <td>24.0</td>\n",
       "      <td>never smoked</td>\n",
       "      <td>1</td>\n",
       "    </tr>\n",
       "    <tr>\n",
       "      <th>...</th>\n",
       "      <td>...</td>\n",
       "      <td>...</td>\n",
       "      <td>...</td>\n",
       "      <td>...</td>\n",
       "      <td>...</td>\n",
       "      <td>...</td>\n",
       "      <td>...</td>\n",
       "      <td>...</td>\n",
       "      <td>...</td>\n",
       "      <td>...</td>\n",
       "      <td>...</td>\n",
       "      <td>...</td>\n",
       "    </tr>\n",
       "    <tr>\n",
       "      <th>5105</th>\n",
       "      <td>18234</td>\n",
       "      <td>Female</td>\n",
       "      <td>80.0</td>\n",
       "      <td>1</td>\n",
       "      <td>0</td>\n",
       "      <td>Yes</td>\n",
       "      <td>Private</td>\n",
       "      <td>Urban</td>\n",
       "      <td>83.75</td>\n",
       "      <td>NaN</td>\n",
       "      <td>never smoked</td>\n",
       "      <td>0</td>\n",
       "    </tr>\n",
       "    <tr>\n",
       "      <th>5106</th>\n",
       "      <td>44873</td>\n",
       "      <td>Female</td>\n",
       "      <td>81.0</td>\n",
       "      <td>0</td>\n",
       "      <td>0</td>\n",
       "      <td>Yes</td>\n",
       "      <td>Self-employed</td>\n",
       "      <td>Urban</td>\n",
       "      <td>125.20</td>\n",
       "      <td>40.0</td>\n",
       "      <td>never smoked</td>\n",
       "      <td>0</td>\n",
       "    </tr>\n",
       "    <tr>\n",
       "      <th>5107</th>\n",
       "      <td>19723</td>\n",
       "      <td>Female</td>\n",
       "      <td>35.0</td>\n",
       "      <td>0</td>\n",
       "      <td>0</td>\n",
       "      <td>Yes</td>\n",
       "      <td>Self-employed</td>\n",
       "      <td>Rural</td>\n",
       "      <td>82.99</td>\n",
       "      <td>30.6</td>\n",
       "      <td>never smoked</td>\n",
       "      <td>0</td>\n",
       "    </tr>\n",
       "    <tr>\n",
       "      <th>5108</th>\n",
       "      <td>37544</td>\n",
       "      <td>Male</td>\n",
       "      <td>51.0</td>\n",
       "      <td>0</td>\n",
       "      <td>0</td>\n",
       "      <td>Yes</td>\n",
       "      <td>Private</td>\n",
       "      <td>Rural</td>\n",
       "      <td>166.29</td>\n",
       "      <td>25.6</td>\n",
       "      <td>formerly smoked</td>\n",
       "      <td>0</td>\n",
       "    </tr>\n",
       "    <tr>\n",
       "      <th>5109</th>\n",
       "      <td>44679</td>\n",
       "      <td>Female</td>\n",
       "      <td>44.0</td>\n",
       "      <td>0</td>\n",
       "      <td>0</td>\n",
       "      <td>Yes</td>\n",
       "      <td>Govt_job</td>\n",
       "      <td>Urban</td>\n",
       "      <td>85.28</td>\n",
       "      <td>26.2</td>\n",
       "      <td>Unknown</td>\n",
       "      <td>0</td>\n",
       "    </tr>\n",
       "  </tbody>\n",
       "</table>\n",
       "<p>5110 rows × 12 columns</p>\n",
       "</div>"
      ],
      "text/plain": [
       "         id  gender   age  hypertension  heart_disease ever_married  \\\n",
       "0      9046    Male  67.0             0              1          Yes   \n",
       "1     51676  Female  61.0             0              0          Yes   \n",
       "2     31112    Male  80.0             0              1          Yes   \n",
       "3     60182  Female  49.0             0              0          Yes   \n",
       "4      1665  Female  79.0             1              0          Yes   \n",
       "...     ...     ...   ...           ...            ...          ...   \n",
       "5105  18234  Female  80.0             1              0          Yes   \n",
       "5106  44873  Female  81.0             0              0          Yes   \n",
       "5107  19723  Female  35.0             0              0          Yes   \n",
       "5108  37544    Male  51.0             0              0          Yes   \n",
       "5109  44679  Female  44.0             0              0          Yes   \n",
       "\n",
       "          work_type Residence_type  avg_glucose_level   bmi   smoking_status  \\\n",
       "0           Private          Urban             228.69  36.6  formerly smoked   \n",
       "1     Self-employed          Rural             202.21   NaN     never smoked   \n",
       "2           Private          Rural             105.92  32.5     never smoked   \n",
       "3           Private          Urban             171.23  34.4           smokes   \n",
       "4     Self-employed          Rural             174.12  24.0     never smoked   \n",
       "...             ...            ...                ...   ...              ...   \n",
       "5105        Private          Urban              83.75   NaN     never smoked   \n",
       "5106  Self-employed          Urban             125.20  40.0     never smoked   \n",
       "5107  Self-employed          Rural              82.99  30.6     never smoked   \n",
       "5108        Private          Rural             166.29  25.6  formerly smoked   \n",
       "5109       Govt_job          Urban              85.28  26.2          Unknown   \n",
       "\n",
       "      stroke  \n",
       "0          1  \n",
       "1          1  \n",
       "2          1  \n",
       "3          1  \n",
       "4          1  \n",
       "...      ...  \n",
       "5105       0  \n",
       "5106       0  \n",
       "5107       0  \n",
       "5108       0  \n",
       "5109       0  \n",
       "\n",
       "[5110 rows x 12 columns]"
      ]
     },
     "execution_count": 6,
     "metadata": {},
     "output_type": "execute_result"
    }
   ],
   "source": [
    "#Si vous souhaitez accéder au fichier dans votre drive vous pouvez utiliser les lignes d'en dessous en complétant le bon path jusqu'a votre fichier\n",
    "#from google.colab import drive, files\n",
    "#drive.mount('/content/gdrive')\n",
    "\n",
    "import pandas as pd\n",
    "data = pd.read_csv(\"/Users/camilleduquesne/Downloads/healthcare-dataset-stroke-data.csv\") \n",
    "data"
   ]
  },
  {
   "cell_type": "markdown",
   "metadata": {},
   "source": [
    "### Question 2: Dans la colonne `gender` combien y a t'il de `Male` et de `Female` ?"
   ]
  },
  {
   "cell_type": "code",
   "execution_count": 7,
   "metadata": {},
   "outputs": [
    {
     "data": {
      "text/plain": [
       "Female    2994\n",
       "Male      2115\n",
       "Other        1\n",
       "Name: gender, dtype: int64"
      ]
     },
     "execution_count": 7,
     "metadata": {},
     "output_type": "execute_result"
    }
   ],
   "source": [
    "data['gender'].value_counts()"
   ]
  },
  {
   "cell_type": "markdown",
   "metadata": {},
   "source": [
    "### Question 3: Enlever la ligne ayant un gender `Other` du dataframe"
   ]
  },
  {
   "cell_type": "code",
   "execution_count": 8,
   "metadata": {},
   "outputs": [],
   "source": [
    "data = data.drop(data[data['gender'] == 'Other'].index)\n",
    "\n",
    "#data['gender'].value_counts()"
   ]
  },
  {
   "cell_type": "markdown",
   "metadata": {},
   "source": [
    "### Question 4: Dans la colonne `gender` changer les `Male` et `Female` en `0` et en `1`"
   ]
  },
  {
   "cell_type": "code",
   "execution_count": 9,
   "metadata": {},
   "outputs": [],
   "source": [
    "data['gender'] = data['gender'].apply(lambda x: 0 if x == 'Female' else 1)\n",
    "#data"
   ]
  },
  {
   "cell_type": "markdown",
   "metadata": {},
   "source": [
    "### Question 5: Regarder si il y a des valeurs manquantes dans les colones `age`, `gender` et `stroke`. Si oui décider comment gérer ces valeurs manquantes."
   ]
  },
  {
   "cell_type": "code",
   "execution_count": 10,
   "metadata": {},
   "outputs": [
    {
     "data": {
      "text/plain": [
       "id                     0\n",
       "gender                 0\n",
       "age                    0\n",
       "hypertension           0\n",
       "heart_disease          0\n",
       "ever_married           0\n",
       "work_type              0\n",
       "Residence_type         0\n",
       "avg_glucose_level      0\n",
       "bmi                  201\n",
       "smoking_status         0\n",
       "stroke                 0\n",
       "dtype: int64"
      ]
     },
     "execution_count": 10,
     "metadata": {},
     "output_type": "execute_result"
    }
   ],
   "source": [
    "data.isna().sum()"
   ]
  },
  {
   "cell_type": "markdown",
   "metadata": {},
   "source": [
    "### Question 6: Quelle est la valeur minimale et maximale de la colonne `age` ?"
   ]
  },
  {
   "cell_type": "code",
   "execution_count": 13,
   "metadata": {},
   "outputs": [
    {
     "name": "stdout",
     "output_type": "stream",
     "text": [
      "82.0\n",
      "0.08\n"
     ]
    }
   ],
   "source": [
    "print(data['age'].max())\n",
    "print(data['age'].min())"
   ]
  },
  {
   "cell_type": "markdown",
   "metadata": {},
   "source": [
    "### Question 7: Quel est le pourcentage de patients ayant eu un AVC ?"
   ]
  },
  {
   "cell_type": "code",
   "execution_count": 18,
   "metadata": {},
   "outputs": [
    {
     "data": {
      "text/plain": [
       "4.873752201996477"
      ]
     },
     "execution_count": 18,
     "metadata": {},
     "output_type": "execute_result"
    }
   ],
   "source": [
    "data['stroke'].value_counts()[1]/len(data['stroke'])*100 "
   ]
  },
  {
   "cell_type": "markdown",
   "metadata": {},
   "source": [
    "### Question 8: Faire un graphe de la répartion de l'age des patients selon la colonne `gender`"
   ]
  },
  {
   "cell_type": "code",
   "execution_count": 22,
   "metadata": {},
   "outputs": [
    {
     "name": "stderr",
     "output_type": "stream",
     "text": [
      "/Users/camilleduquesne/miniconda3/lib/python3.7/site-packages/seaborn/distributions.py:2557: FutureWarning: `distplot` is a deprecated function and will be removed in a future version. Please adapt your code to use either `displot` (a figure-level function with similar flexibility) or `histplot` (an axes-level function for histograms).\n",
      "  warnings.warn(msg, FutureWarning)\n",
      "/Users/camilleduquesne/miniconda3/lib/python3.7/site-packages/seaborn/distributions.py:2557: FutureWarning: `distplot` is a deprecated function and will be removed in a future version. Please adapt your code to use either `displot` (a figure-level function with similar flexibility) or `histplot` (an axes-level function for histograms).\n",
      "  warnings.warn(msg, FutureWarning)\n"
     ]
    },
    {
     "data": {
      "image/png": "[encoded data removed]",
      "text/plain": [
       "<Figure size 432x288 with 1 Axes>"
      ]
     },
     "metadata": {
      "needs_background": "light"
     },
     "output_type": "display_data"
    }
   ],
   "source": [
    "import seaborn as sns\n",
    "from matplotlib import pyplot as plt\n",
    "sns.distplot( data.loc[data['gender'] == 0, 'age'], bins =40, label = 'female')\n",
    "sns.distplot( data.loc[data['gender'] == 1, 'age'], bins =40, label = 'male')\n",
    "plt.title('Distribution of age in females (blue) and males (orange)')\n",
    "plt.show()"
   ]
  },
  {
   "cell_type": "markdown",
   "metadata": {},
   "source": [
    "### Question 9: Est ce que l'age des patients est uniformément réparti pour les deux sexes ? "
   ]
  },
  {
   "cell_type": "markdown",
   "metadata": {},
   "source": [
    "oui l'age semble plutôt bien réparti entre les deux sexes"
   ]
  },
  {
   "cell_type": "markdown",
   "metadata": {},
   "source": [
    "### Question 10: Est ce que l'age des patients est uniformément réparti de manière globale ? "
   ]
  },
  {
   "cell_type": "markdown",
   "metadata": {},
   "source": [
    "Il y a de moins de personnes de moins 20 ans et un pic autour de 80 ans mais sinon c'est plutôt bien réparti."
   ]
  },
  {
   "cell_type": "markdown",
   "metadata": {},
   "source": [
    "### Question 11: Faire un graphe de la répartion de l'age selon la colonne `stroke`"
   ]
  },
  {
   "cell_type": "code",
   "execution_count": 23,
   "metadata": {},
   "outputs": [
    {
     "name": "stderr",
     "output_type": "stream",
     "text": [
      "/Users/camilleduquesne/miniconda3/lib/python3.7/site-packages/seaborn/distributions.py:2557: FutureWarning: `distplot` is a deprecated function and will be removed in a future version. Please adapt your code to use either `displot` (a figure-level function with similar flexibility) or `histplot` (an axes-level function for histograms).\n",
      "  warnings.warn(msg, FutureWarning)\n",
      "/Users/camilleduquesne/miniconda3/lib/python3.7/site-packages/seaborn/distributions.py:2557: FutureWarning: `distplot` is a deprecated function and will be removed in a future version. Please adapt your code to use either `displot` (a figure-level function with similar flexibility) or `histplot` (an axes-level function for histograms).\n",
      "  warnings.warn(msg, FutureWarning)\n"
     ]
    },
    {
     "data": {
      "image/png": "[encoded data removed]",
      "text/plain": [
       "<Figure size 432x288 with 1 Axes>"
      ]
     },
     "metadata": {
      "needs_background": "light"
     },
     "output_type": "display_data"
    }
   ],
   "source": [
    "sns.distplot( data.loc[data['stroke'] == 0, 'age'], bins =40, label = 'no stroke')\n",
    "sns.distplot( data.loc[data['stroke'] == 1, 'age'], bins =40, label = 'stroke')\n",
    "plt.title('Distribution of age relative to stroke occurence (orange) or no stroke occurence (blue)')\n",
    "plt.show()"
   ]
  },
  {
   "cell_type": "markdown",
   "metadata": {},
   "source": [
    "### Question 12: Pensez vous que l'âge soit un facteur déterminant pour prédire le risque d'AVC ?"
   ]
  },
  {
   "cell_type": "markdown",
   "metadata": {},
   "source": [
    "Oui les AVC, se font à partir de 40 ans et sont plus nombreux plus l'âge augmente."
   ]
  },
  {
   "cell_type": "markdown",
   "metadata": {},
   "source": [
    "### Question 13: Quelle est la répartition du genre des patients ayant eu un AVC et ceux n'ayant pas eu un AVC ?"
   ]
  },
  {
   "cell_type": "code",
   "execution_count": 97,
   "metadata": {},
   "outputs": [
    {
     "name": "stderr",
     "output_type": "stream",
     "text": [
      "/Users/camilleduquesne/miniconda3/lib/python3.7/site-packages/seaborn/_decorators.py:43: FutureWarning: Pass the following variables as keyword args: x, y. From version 0.12, the only valid positional argument will be `data`, and passing other arguments without an explicit keyword will result in an error or misinterpretation.\n",
      "  FutureWarning\n",
      "/Users/camilleduquesne/miniconda3/lib/python3.7/site-packages/seaborn/_decorators.py:43: FutureWarning: Pass the following variables as keyword args: x, y. From version 0.12, the only valid positional argument will be `data`, and passing other arguments without an explicit keyword will result in an error or misinterpretation.\n",
      "  FutureWarning\n"
     ]
    },
    {
     "data": {
      "image/png": "[encoded data removed]",
      "text/plain": [
       "<Figure size 432x288 with 1 Axes>"
      ]
     },
     "metadata": {
      "needs_background": "light"
     },
     "output_type": "display_data"
    }
   ],
   "source": [
    "column = 'gender'\n",
    "x_axis = data[column].unique()\n",
    "y_axis = data[column].value_counts()/len(data[column])*100\n",
    "w_axis = []\n",
    "    \n",
    "for value in x_axis:\n",
    "    data['gender'].value_counts()/(len(data['gender']))*100\n",
    "    stroke_yes = len(data[(data[column] == value) & (data['stroke'] == 1)])\n",
    "    total = len(data[data[column] == value])\n",
    "    percentage = (stroke_yes/total) * 100\n",
    "    w_axis.append(percentage)\n",
    "\n",
    "sns.barplot(x_axis, y_axis).set(ylim=(0, 100))\n",
    "sns.barplot(x_axis, w_axis, color='red').set(ylim=(0, 100))\n",
    "plt.title(\"Bar plot of the percentage of Males and Females in the dataset \\n and in red the percenatge of those males and females that had a stroke\")\n",
    "plt.xlabel(\"gender (0 = Male and 1 = Female)\")\n",
    "plt.ylabel(\"percentage\")\n",
    "plt.show()"
   ]
  },
  {
   "cell_type": "markdown",
   "metadata": {},
   "source": [
    "### Question 14: Pensez vous que le sexe soit un facteur déterminant pour prédire le rique d'AVC ?"
   ]
  },
  {
   "cell_type": "markdown",
   "metadata": {},
   "source": [
    "Non, il y a autant d'avc chez les hommes que chez les femmes."
   ]
  },
  {
   "cell_type": "markdown",
   "metadata": {},
   "source": [
    "## Exercice 4: Quelle Classe !!!"
   ]
  },
  {
   "cell_type": "markdown",
   "metadata": {},
   "source": [
    "Dans cet exercice on va essayer de recréer le réseau de gens dans votre classe qui ont déjà travaillé ensemble pour un projet/devoirs."
   ]
  },
  {
   "cell_type": "markdown",
   "metadata": {},
   "source": [
    "Pour cela on va créer 2 classes\n",
    "* la classe `Eleve` qui contiendra en attribut le `prenom`, le `nom` et la liste des `autres` élèves avec lequel celui ci à déjà travaillé et des methodes (= fonctions) pour afficher et changer chacun des attributs \n",
    "* la classe `Licence` qui contiendra en attribut un set d'elèves appelée `set_eleves` et en méthodes: une fonction pour afficher `set_eleves`, une fonction pour ajouter un elève à `set_eleves` et une fonction pour enlever un élève donné de `set_eleves`"
   ]
  },
  {
   "cell_type": "markdown",
   "metadata": {},
   "source": [
    "### Question 1: complétez les \"???\" dans la classe `Eleve` ci dessous"
   ]
  },
  {
   "cell_type": "code",
   "execution_count": 74,
   "metadata": {},
   "outputs": [],
   "source": [
    "#On définit notre classe\n",
    "class Eleve:\n",
    "    \n",
    "    #On definit notre constructeur, c'est obligatoire parce que cela permet de créer des instances de notre classe \n",
    "    def __init__(self, prenom_input, nom_input, autres_input):\n",
    "        #On définit les attributs de notre classe\n",
    "        self.prenom = prenom_input\n",
    "        self.nom = nom_input\n",
    "        self.autres = autres_input\n",
    "                 \n",
    "    #On définit les méthodes (=fonctions) de notre classe \n",
    "    def get_prenom(self): #Affiche l'attribut prenom\n",
    "        return self.prenom\n",
    "    def get_nom(self): #Affiche l'attribut nom\n",
    "        return self.nom\n",
    "    def get_autres(self): #Affiche l'attribut autres\n",
    "        return self.autres\n",
    "    def set_prenom(self, prenom_autre): #Change l'attribut prenom\n",
    "        self.prenom = prenom_autre       \n",
    "    def set_nom(self, nom_autre): #Change l'attribut nom\n",
    "        self.nom = nom_autre\n",
    "    def set_autres(self, autres_autre): #Change l'attribut autre\n",
    "        self.autres = autres_autre\n",
    "    def get_working_tuples(self):\n",
    "        list_of_eleves = []\n",
    "        for i in self.autres:\n",
    "            list_of_eleves.append((self.prenom, i))\n",
    "        return list_of_eleves\n",
    "            \n",
    "                 "
   ]
  },
  {
   "cell_type": "markdown",
   "metadata": {},
   "source": [
    "### Question 2: Construisez 5 instances de la classe `Elève` (choisissez 5 élèves de votre classe en gros)"
   ]
  },
  {
   "cell_type": "code",
   "execution_count": 85,
   "metadata": {},
   "outputs": [
    {
     "name": "stdout",
     "output_type": "stream",
     "text": [
      "camille\n",
      "duquesne\n",
      "['nina', 'selim']\n"
     ]
    }
   ],
   "source": [
    "camille = Eleve('camille', 'duquesne', ['nina', 'selim'])\n",
    "selim = Eleve('selim', 'ben slama', ['nina', 'amandine'])\n",
    "aline = Eleve('aline', 'yatim', ['amandine'])\n",
    "nina = Eleve('nina', 'varchavsky', ['camille', 'selim', 'amandine'])\n",
    "amandine = Eleve('amandine', 'maire', ['aline', 'nina', 'selim'])\n",
    "\n",
    "print(camille.get_prenom())\n",
    "print(camille.get_nom())\n",
    "print(camille.get_autres())"
   ]
  },
  {
   "cell_type": "markdown",
   "metadata": {},
   "source": [
    "### Question 3: Ecrivez la classe `Licence`"
   ]
  },
  {
   "cell_type": "code",
   "execution_count": 87,
   "metadata": {},
   "outputs": [],
   "source": [
    "#On définit notre classe\n",
    "class Licence:\n",
    "    \n",
    "    #On definit notre constructeur, c'est obligatoire parce que cela permet de créer des instances de notre classe \n",
    "    def __init__(self, set_eleves):\n",
    "        #On définit les attributs de notre classe\n",
    "        self.set_eleves = set_eleves\n",
    "                 \n",
    "    #On définit les méthodes (=fonctions) de notre classe \n",
    "    def get_set_eleves(self): #Affiche set_eleves\n",
    "        return [i.get_prenom() for i in self.set_eleves]\n",
    "    def set_prenom(self, autre_set_eleves): #Change l'attribut set_eleves\n",
    "        self.set_eleves = set_eleves   \n",
    "    def get_binomes(self):\n",
    "        list_of_binomes = []\n",
    "        for i in self.set_eleves:\n",
    "            list_of_binomes += i.get_working_tuples()\n",
    "        return list_of_binomes"
   ]
  },
  {
   "cell_type": "markdown",
   "metadata": {},
   "source": [
    "### Question 4: Créez une instance de `Licence` appellée `L1`"
   ]
  },
  {
   "cell_type": "code",
   "execution_count": 88,
   "metadata": {},
   "outputs": [
    {
     "name": "stdout",
     "output_type": "stream",
     "text": [
      "['camille', 'selim', 'aline', 'nina', 'amandine']\n"
     ]
    }
   ],
   "source": [
    "L1 = Licence((camille, selim, aline, nina, amandine))\n",
    "print(L1.get_set_eleves())"
   ]
  },
  {
   "cell_type": "markdown",
   "metadata": {},
   "source": [
    "### Question 4: Ajoutez à votre classe `Elève` une méthode `get_working_tuples()` qui vous renvoie une liste de tuples des binomes de travail"
   ]
  },
  {
   "cell_type": "markdown",
   "metadata": {},
   "source": [
    "Par exemple si j'ai travaillé avec `['virginie', 'typhaine', 'david']`, `camille.get_working_tuples()` va me return `[('camille', 'virginie'), ('camille', 'typhaine'), ('camille', 'david')]` "
   ]
  },
  {
   "cell_type": "markdown",
   "metadata": {},
   "source": [
    "cf définition de classe au dessus"
   ]
  },
  {
   "cell_type": "code",
   "execution_count": 89,
   "metadata": {},
   "outputs": [
    {
     "data": {
      "text/plain": [
       "[('camille', 'nina'), ('camille', 'selim')]"
      ]
     },
     "execution_count": 89,
     "metadata": {},
     "output_type": "execute_result"
    }
   ],
   "source": [
    "camille.get_working_tuples()"
   ]
  },
  {
   "cell_type": "markdown",
   "metadata": {},
   "source": [
    "### Question 5: Ajoutez à votre classe `Licence` une méthode qui s'appelle `get_binomes()` et qui return la liste de tout les tuples de binomes de votre classe. (En gros le resultat de get_working_tuples() mais pour tous les élèves de Licence)"
   ]
  },
  {
   "cell_type": "markdown",
   "metadata": {},
   "source": [
    "cf définition de classe au dessus"
   ]
  },
  {
   "cell_type": "code",
   "execution_count": 90,
   "metadata": {},
   "outputs": [
    {
     "data": {
      "text/plain": [
       "[('camille', 'nina'),\n",
       " ('camille', 'selim'),\n",
       " ('selim', 'nina'),\n",
       " ('selim', 'amandine'),\n",
       " ('aline', 'amandine'),\n",
       " ('nina', 'camille'),\n",
       " ('nina', 'selim'),\n",
       " ('nina', 'amandine'),\n",
       " ('amandine', 'aline'),\n",
       " ('amandine', 'nina'),\n",
       " ('amandine', 'selim')]"
      ]
     },
     "execution_count": 90,
     "metadata": {},
     "output_type": "execute_result"
    }
   ],
   "source": [
    "L1.get_binomes()"
   ]
  },
  {
   "cell_type": "markdown",
   "metadata": {},
   "source": [
    "### Question 6: Executez la cellule suivante pour voir votre réseaux d'élèves de votre classe ayant travaillé ensemble !"
   ]
  },
  {
   "cell_type": "code",
   "execution_count": 91,
   "metadata": {},
   "outputs": [
    {
     "data": {
      "image/png": "[encoded data removed]",
      "text/plain": [
       "<Figure size 432x288 with 1 Axes>"
      ]
     },
     "metadata": {},
     "output_type": "display_data"
    }
   ],
   "source": [
    "import networkx as nx\n",
    "G = nx.Graph()\n",
    "G.add_edges_from(L1.get_binomes())\n",
    "nx.draw_networkx(G, node_color='r', edge_color='b')"
   ]
  },
  {
   "cell_type": "markdown",
   "metadata": {},
   "source": [
    "### Question Bonus: Ajoutez la méthode __repr__ à vos deux classe pour afficher de manière propre tous les attributs de vos classes"
   ]
  },
  {
   "cell_type": "code",
   "execution_count": null,
   "metadata": {},
   "outputs": [],
   "source": [
   ]
  },
  {
   "cell_type": "code",
   "execution_count": null,
   "metadata": {},
   "outputs": [],
   "source": []
  },
  {
   "cell_type": "code",
   "execution_count": null,
   "metadata": {},
   "outputs": [],
   "source": []
  },
  {
   "cell_type": "code",
   "execution_count": null,
   "metadata": {},
   "outputs": [],
   "source": []
  },
  {
   "cell_type": "code",
   "execution_count": null,
   "metadata": {},
   "outputs": [],
   "source": []
  },
  {
   "cell_type": "code",
   "execution_count": null,
   "metadata": {},
   "outputs": [],
   "source": [
    "#Exemple vu en tutorat"
   ]
  },
  {
   "cell_type": "code",
   "execution_count": null,
   "metadata": {},
   "outputs": [],
   "source": [
    "class Chat:\n",
    "    \n",
    "    def __init__(self, raceDuChat, ageDuChat):\n",
    "        self.race = raceDuChat\n",
    "        self.age = ageDuChat\n",
    "        \n",
    "        \n",
    "    def get_age(self):\n",
    "        print(self.age)\n",
    "        \n",
    "    def set_age(self, autreAge):\n",
    "        self.age = autreAge\n",
    "    \n",
    "    def autre_age(self, other):\n",
    "        self.age = other.age\n",
    "\n",
    "        \n",
    "miaoumiaou = Chat('siamois', 12)\n",
    "minou = Chat('chartreux', 4)\n",
    "miaoumiaou.autre_age(minou)\n",
    "miaoumiaou.get_age()"
   ]
  },
  {
   "cell_type": "code",
   "execution_count": null,
   "metadata": {},
   "outputs": [],
   "source": [
    "miaoumiaou = Chat('siamois', 12)\n",
    "minou = Chat('chartreux', 4)"
   ]
  },
  {
   "cell_type": "code",
   "execution_count": null,
   "metadata": {},
   "outputs": [],
   "source": [
    "miaoumiaou.autre_age(minou)\n",
    "miaoumiaou.get_age()"
   ]
  },
  {
   "cell_type": "code",
   "execution_count": null,
   "metadata": {},
   "outputs": [],
   "source": [
    "minou.set_age(miaoumiaou.get_age())"
   ]
  },
  {
   "cell_type": "code",
   "execution_count": null,
   "metadata": {},
   "outputs": [],
   "source": [
    "minou.get_age()"
   ]
  },
  {
   "cell_type": "code",
   "execution_count": null,
   "metadata": {},
   "outputs": [],
   "source": []
  }
 ],
 "metadata": {
  "kernelspec": {
   "display_name": "Python 3",
   "language": "python",
   "name": "python3"
  },
  "language_info": {
   "codemirror_mode": {
    "name": "ipython",
    "version": 3
   },
   "file_extension": ".py",
   "mimetype": "text/x-python",
   "name": "python",
   "nbconvert_exporter": "python",
   "pygments_lexer": "ipython3",
   "version": "3.7.4"
  }
 },
 "nbformat": 4,
 "nbformat_minor": 4
}
