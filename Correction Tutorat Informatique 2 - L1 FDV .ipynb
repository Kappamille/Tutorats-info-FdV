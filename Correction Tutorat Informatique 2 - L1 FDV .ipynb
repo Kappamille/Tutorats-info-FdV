{
 "cells": [
  {
   "cell_type": "markdown",
   "metadata": {},
   "source": [
    "# Tutorat Informatique 2"
   ]
  },
  {
   "cell_type": "markdown",
   "metadata": {},
   "source": [
    "31/03/2021 - Camille Duquesne"
   ]
  },
  {
   "cell_type": "markdown",
   "metadata": {},
   "source": [
    "Les trois exercices se font indépendament des uns des autres."
   ]
  },
  {
   "cell_type": "markdown",
   "metadata": {},
   "source": [
    "Les compétences travaillés dans ce tutorat sont: \n",
    "* utilisation des boucles for\n",
    "* utilisation de la fonction range()\n",
    "* utilisation de la condition if\n",
    "* manipulation de string\n",
    "* manipulation de liste (append())\n",
    "* utilisation de librairies (numpy, matplotlib, string, math)\n",
    "* définition et appel de fonctions\n",
    "* manipulation de dictionnaires (keys(), values())"
   ]
  },
  {
   "cell_type": "markdown",
   "metadata": {},
   "source": [
    "## **Exercice 1 - Message codé**"
   ]
  },
  {
   "cell_type": "markdown",
   "metadata": {},
   "source": [
    "Le but de cet exercice sera de pouvoir coder un message avec une encryption de 'caesar cypher wheel'. https://en.wikipedia.org/wiki/Caesar_cipher\n",
    "Par exemple 'ok boomer' deviendra 'so fssqiv' avec une clé d'encrytpion de 4."
   ]
  },
  {
   "cell_type": "markdown",
   "metadata": {},
   "source": [
    "**Question 1:** Créez un dictionnaire nommé 'alphabet' avec en clé les nombres de 1 à 26 et en valeurs les lettres de l'alphabet."
   ]
  },
  {
   "cell_type": "code",
   "execution_count": 1,
   "metadata": {},
   "outputs": [],
   "source": [
    "import string\n",
    "dictionnaire = {}\n",
    "for i in range(0,25):\n",
    "    dictionnaire[string.ascii_lowercase[i]]= i+1\n",
    "print(dictionnaire)"
   ]
  },
  {
   "cell_type": "markdown",
   "metadata": {},
   "source": [
    "**Question 2**: Affichez toutes les clefs de votre dictionnaire 'alphabet'."
   ]
  },
  {
   "cell_type": "code",
   "execution_count": 2,
   "metadata": {},
   "outputs": [],
   "source": [
    "print(dictionnaire.keys())"
   ]
  },
  {
   "cell_type": "markdown",
   "metadata": {},
   "source": [
    "**Question 3**: Affichez toutes les valeurs de votre dictionnaire 'alphabet'."
   ]
  },
  {
   "cell_type": "code",
   "execution_count": 3,
   "metadata": {},
   "outputs": [],
   "source": [
    "print(dictionnaire.values())"
   ]
  },
  {
   "cell_type": "markdown",
   "metadata": {},
   "source": [
    "**Question 4**: Transformez votre message en une liste de chaque caractère du message."
   ]
  },
  {
   "cell_type": "code",
   "execution_count": 4,
   "metadata": {},
   "outputs": [],
   "source": [
    "message = 'ok boomer'\n",
    "list_char = []\n",
    "for i in range(len(message)):\n",
    "    list_char.append(message[i])\n",
    "print(list_char)"
   ]
  },
  {
   "cell_type": "markdown",
   "metadata": {},
   "source": [
    "**Question 5**: Transformez votre liste de caractères, en liste de nombres. Chaque nombre correspond à la position de la lettre dans l'alpahbet (a = 1 et z = 26 par exemple)."
   ]
  },
  {
   "cell_type": "code",
   "execution_count": 5,
   "metadata": {},
   "outputs": [],
   "source": [
    "list_num = []\n",
    "for i in range(len(list_char)):\n",
    "    #print(dictionnaire[list_char[i]])\n",
    "    if list_char[i] == ' ':\n",
    "        list_num.append(' ')\n",
    "    else:\n",
    "        list_num.append(dictionnaire[list_char[i]])\n",
    "print(list_num)"
   ]
  },
  {
   "cell_type": "markdown",
   "metadata": {},
   "source": [
    "**Question 6**: Choisissez une clé d'encryption, soit un entier entre 1 et 26. Ajoutez la valeur de votre clé d'encryption à chaque nombre de votre liste précédente de numéros. "
   ]
  },
  {
   "cell_type": "code",
   "execution_count": 6,
   "metadata": {},
   "outputs": [],
   "source": [
    "encrypt_num = 4\n",
    "for i in range(len(list_num)):\n",
    "    if list_char[i] == ' ':\n",
    "        continue\n",
    "    else:\n",
    "        list_num[i] = list_num[i] + encrypt_num\n",
    "print(list_num)"
   ]
  },
  {
   "cell_type": "markdown",
   "metadata": {},
   "source": [
    "**Question 7:** Retransfrormez votre liste de nombres en lettres en utilisant le dictionnaire."
   ]
  },
  {
   "cell_type": "code",
   "execution_count": 7,
   "metadata": {},
   "outputs": [
    {
     "name": "stdout",
     "output_type": "stream",
     "text": [
      "{1: 'a', 2: 'b', 3: 'c', 4: 'd', 5: 'e', 6: 'f', 7: 'g', 8: 'h', 9: 'i', 10: 'j', 11: 'k', 12: 'l', 13: 'm', 14: 'n', 15: 'o', 16: 'p', 17: 'q', 18: 'r', 19: 's', 20: 't', 21: 'u', 22: 'v', 23: 'w', 24: 'x', 25: 'y'}\n",
      "['s', 'o', ' ', 'f', 's', 's', 'q', 'i', 'v']\n",
      "so fssqiv\n"
     ]
    }
   ],
   "source": [
    "#On va faire un reverse dictionnaire pcq j'ai oublié que on en aurait besoin \n",
    "\n",
    "reverse_dictionnaire = dict((v, k) for k, v in dictionnaire.items())\n",
    "print(reverse_dictionnaire)\n",
    "\n",
    "list_message = []\n",
    "for i in range(len(list_num)):\n",
    "    if list_num[i] == ' ':\n",
    "        list_message.append(\" \")\n",
    "    else:\n",
    "        list_message.append(reverse_dictionnaire[list_num[i]])\n",
    "print(list_message)\n",
    "\n",
    "encrypt_message = \"\".join(list_message)\n",
    "print(encrypt_message)"
   ]
  },
  {
   "cell_type": "markdown",
   "metadata": {},
   "source": [
    "**Question 8:** Définissez une fonction 'encryption' qui prend en entrée un message sous forme de string et une clé d'encryption sous forme de nombre. Cette fonction rentournera en sortie le message encrypté sous forme de string."
   ]
  },
  {
   "cell_type": "code",
   "execution_count": 26,
   "metadata": {},
   "outputs": [],
   "source": [
    "def encryption(message, encrypt_key):\n",
    "    import string\n",
    "    #on définit les 2 dictionnaires qu'on utilisera\n",
    "    dictionnaire = dict((string.ascii_lowercase[i], i) for i in range(0,25))\n",
    "    reverse_dictionnaire = dict((v, k) for k, v in dictionnaire.items())\n",
    "    \n",
    "    #On définit notre liste de caractères à partir du message\n",
    "    character_list = [i for i in message]\n",
    "    \n",
    "    new_character_list = [] #On stockera les nouveau caractères encryptés dans cette liste\n",
    "    for i in range(len(character_list)):\n",
    "        #On regarde si notre caractère est de la ponctuation, et on garde la ponctuation\n",
    "        if character_list[i] in string.punctuation or character_list[i] == ' ':\n",
    "            new_character_list.append(character_list[i])\n",
    "        #Si notre caractère est une lettre, on l'encrypte\n",
    "        else:\n",
    "            #On change le caractère en nombre\n",
    "            number_of_character = dictionnaire[character_list[i]] \n",
    "            #On ajoute le nombre d'encryption au nombre du caractère\n",
    "            encrypted_number = (number_of_character + encrypt_key)%25 #On utilise le modulo 26 pour être sure que notre nombre reste dans le range des lettres de l'alphabet \n",
    "            #On retransforme le nouveau nombre en caractère\n",
    "            encrypted_character = reverse_dictionnaire[encrypted_number]\n",
    "            #On ajoute le caractère encrypté dans la liste\n",
    "            new_character_list.append(encrypted_character)\n",
    "    \n",
    "    #On transforme la liste de nouveau caractères encyptés en string\n",
    "    encrypted_message = \"\".join(new_character_list)\n",
    "    \n",
    "    return encrypted_message   \n",
    "    "
   ]
  },
  {
   "cell_type": "markdown",
   "metadata": {},
   "source": [
    "**Question 9:** Définissez une fonction 'decryption' qui prend en entrée un message encrypté sous forme de string et une clé d'encryption sous forme de nombre. Cette fonction rentournera en sortie le message décrypté sous forme de string."
   ]
  },
  {
   "cell_type": "code",
   "execution_count": 27,
   "metadata": {},
   "outputs": [],
   "source": [
    "def decryption(encrypted_message, encrypt_key):\n",
    "    import string\n",
    "    #on définit les 2 dictionnaires qu'on utilisera\n",
    "    dictionnaire = dict((string.ascii_lowercase[i], i) for i in range(0,25))\n",
    "    reverse_dictionnaire = dict((v, k) for k, v in dictionnaire.items())\n",
    "    \n",
    "    #On définit notre liste de caractères à partir du message\n",
    "    character_list = [i for i in encrypted_message]\n",
    "    \n",
    "    new_character_list = [] #On stockera les nouveau caractères encryptés dans cette liste\n",
    "    for i in range(len(character_list)):\n",
    "        #On regarde si notre caractère est de la ponctuation, et on garde la ponctuation\n",
    "        if character_list[i] in string.punctuation or character_list[i] == ' ':\n",
    "            new_character_list.append(character_list[i])\n",
    "        #Si notre caractère est une lettre, on l'encrypte\n",
    "        else:\n",
    "            #On change le caractère en nombre\n",
    "            number_of_character = dictionnaire[character_list[i]] \n",
    "            #On ajoute le nombre d'encryption au nombre du caractère\n",
    "            decrypted_number = (number_of_character - encrypt_key)%25 #On utilise le modulo 26 pour être sure que notre nombre reste dans le range des lettres de l'alphabet \n",
    "            #On retransforme le nouveau nombre en caractère\n",
    "            decrypted_character = reverse_dictionnaire[decrypted_number]\n",
    "            #On ajoute le caractère encrypté dans la liste\n",
    "            new_character_list.append(decrypted_character)\n",
    "    \n",
    "    #On transforme la liste de nouveau caractères encyptés en string\n",
    "    decrypted_message = \"\".join(new_character_list)\n",
    "    \n",
    "    return decrypted_message"
   ]
  },
  {
   "cell_type": "markdown",
   "metadata": {},
   "source": [
    "**Question 10:** Testez vos deux fonction encryption et decryption avec différentes clé d'encyptions et différents messages codés."
   ]
  },
  {
   "cell_type": "code",
   "execution_count": 32,
   "metadata": {},
   "outputs": [
    {
     "name": "stdout",
     "output_type": "stream",
     "text": [
      "so fssqiv !\n",
      "ok boomer !\n",
      "ok boomer !\n",
      "lab jl xcl jlbbl mvujbpvu thyjol dyhptlub hdlj cu svun tlaahnl ?\n",
      "est ce que cette fonction marche vraiment avec un long message ?\n"
     ]
    }
   ],
   "source": [
    "print(encryption('ok boomer !', 4))  \n",
    "print(decryption('so fssqiv !', 4))\n",
    "\n",
    "#on Encrypte et on decrypte d'un coup\n",
    "print(decryption(encryption('ok boomer !', 4), 4))\n",
    "\n",
    "print(encryption('est ce que cette fonction marche vraiment avec un long message ?', 7))  \n",
    "print(decryption('lab jl xcl jlbbl mvujbpvu thyjol dyhptlub hdlj cu svun tlaahnl ?', 7))"
   ]
  },
  {
   "cell_type": "markdown",
   "metadata": {},
   "source": [
    "## **Exercice 2 - Vous avez la carte du magasin ?** "
   ]
  },
  {
   "cell_type": "markdown",
   "metadata": {},
   "source": [
    "Vous avez une liste de prix d'articles que vous avez acheté dans la liste 'courses' ci dessous. "
   ]
  },
  {
   "cell_type": "code",
   "execution_count": 34,
   "metadata": {},
   "outputs": [],
   "source": [
    "courses = [13, 44.98, 35.0, 17, 25, 7, 3.55, 5.25, 4.98]"
   ]
  },
  {
   "cell_type": "markdown",
   "metadata": {},
   "source": [
    "**Question 1:** Combien d'articles avez vous acheté ?"
   ]
  },
  {
   "cell_type": "code",
   "execution_count": 35,
   "metadata": {},
   "outputs": [
    {
     "name": "stdout",
     "output_type": "stream",
     "text": [
      "9\n"
     ]
    }
   ],
   "source": [
    "print(len(courses))"
   ]
  },
  {
   "cell_type": "markdown",
   "metadata": {},
   "source": [
    "**Question 2:** Quelle est la somme de vos courses ?"
   ]
  },
  {
   "cell_type": "code",
   "execution_count": 41,
   "metadata": {},
   "outputs": [
    {
     "name": "stdout",
     "output_type": "stream",
     "text": [
      "155.76\n",
      "155.76\n"
     ]
    }
   ],
   "source": [
    "print(sum(courses))\n",
    "\n",
    "#Ou alors\n",
    "\n",
    "somme = 0\n",
    "for i in courses:\n",
    "    somme += i\n",
    "    \n",
    "print(somme)"
   ]
  },
  {
   "cell_type": "markdown",
   "metadata": {},
   "source": [
    "**Question 3:** Quel est le prix le plus élevé dans la liste ?"
   ]
  },
  {
   "cell_type": "code",
   "execution_count": 43,
   "metadata": {},
   "outputs": [
    {
     "name": "stdout",
     "output_type": "stream",
     "text": [
      "44.98\n",
      "44.98\n"
     ]
    }
   ],
   "source": [
    "print(max(courses))\n",
    "\n",
    "#Ou alors\n",
    "\n",
    "max_item = courses[0]\n",
    "\n",
    "for i in range(1, len(courses)):\n",
    "    if courses[i] > max_item:\n",
    "        max_item = courses[i]\n",
    "        \n",
    "print(max_item)"
   ]
  },
  {
   "cell_type": "markdown",
   "metadata": {},
   "source": [
    "**Question 4:** Quel est le prix le plus bas dans la liste ?"
   ]
  },
  {
   "cell_type": "code",
   "execution_count": 44,
   "metadata": {},
   "outputs": [
    {
     "name": "stdout",
     "output_type": "stream",
     "text": [
      "3.55\n",
      "3.55\n"
     ]
    }
   ],
   "source": [
    "print(min(courses))\n",
    "\n",
    "#Ou alors\n",
    "\n",
    "min_item = courses[0]\n",
    "\n",
    "for i in range(1, len(courses)):\n",
    "    if courses[i] < min_item:\n",
    "        min_item = courses[i]\n",
    "        \n",
    "print(min_item)"
   ]
  },
  {
   "cell_type": "markdown",
   "metadata": {},
   "source": [
    "**Question 5:** Vous souhaitez savoir combien vous auriez économisé si vous aviez eu la carte du magasin. La carte du magasin donne une réduction de 5% pour tout article de plus de 15 euros. Donnez la somme que vous auriez économisé en euros."
   ]
  },
  {
   "cell_type": "code",
   "execution_count": 45,
   "metadata": {},
   "outputs": [
    {
     "name": "stdout",
     "output_type": "stream",
     "text": [
      "6.099\n"
     ]
    }
   ],
   "source": [
    "#Output: 6.099\n",
    "    \n",
    "economie= 0\n",
    "for i in courses:\n",
    "    if i > 15:\n",
    "        economie += i*0.05\n",
    "print(economie)"
   ]
  },
  {
   "cell_type": "markdown",
   "metadata": {},
   "source": [
    "**Question 6:** Créez une fonction 'carte_reduction' qui fait le même calcul que la question 5. Cette fonction prend en entrée une liste de prix d'articles de courses et elle retourne la somme d'argent économisé avec la carte du magasin."
   ]
  },
  {
   "cell_type": "code",
   "execution_count": 46,
   "metadata": {},
   "outputs": [],
   "source": [
    "def carte_reduction(liste_de_courses):\n",
    "    economie= 0\n",
    "    for i in liste_de_courses:\n",
    "        if i > 15:\n",
    "            economie += i*0.05\n",
    "    return(economie)"
   ]
  },
  {
   "cell_type": "markdown",
   "metadata": {},
   "source": [
    "**Question 7:** Utilisez votre fonction 'carte_reduction' avec différentes listes d'articles de courses pour voir combien vous économiseriez à chaque fois."
   ]
  },
  {
   "cell_type": "code",
   "execution_count": 48,
   "metadata": {},
   "outputs": [
    {
     "name": "stdout",
     "output_type": "stream",
     "text": [
      "6.099\n",
      "2.6500000000000004\n",
      "4.15\n",
      "0\n"
     ]
    }
   ],
   "source": [
    "courses1 = [23, 4.98, 30, 1, 2, 2.7, 3.18, 5.45, 14.98]\n",
    "courses2 = [83, 2.99, 1, 2, 3.2, 4, 6.5, 7.4, 8.9, 1.5, 3, 9.5, 12, 2.7, 5.5, 9.9, 15, 10]\n",
    "courses3 = [0.7, 7.88, 6.66, 7.12, 3.45, 6.98, 3.89, 6.7, 2, 7.8, 2.2, 6.5, 4.8 ]\n",
    "\n",
    "print(carte_reduction(courses))\n",
    "print(carte_reduction(courses1))\n",
    "print(carte_reduction(courses2))\n",
    "print(carte_reduction(courses3))"
   ]
  },
  {
   "cell_type": "markdown",
   "metadata": {},
   "source": [
    "## **Exercice 3** - Love is in the air"
   ]
  },
  {
   "cell_type": "markdown",
   "metadata": {},
   "source": [
    "Dans cet exercice nous allons tracer un graphe qui à une forme de coeur. L'équation est la suivante:"
   ]
  },
  {
   "cell_type": "raw",
   "metadata": {},
   "source": [
    "x = 16 * sin3(θ)\n",
    "y = 13 * cos(θ) - 5 * cos(2θ) - 2*cos(3θ) - cos(4θ) "
   ]
  },
  {
   "cell_type": "markdown",
   "metadata": {},
   "source": [
    "**Question 1:** Creer une liste theta, avec 100 valeurs ayant le même écart entre 0 et 2*pi"
   ]
  },
  {
   "cell_type": "code",
   "execution_count": 50,
   "metadata": {},
   "outputs": [
    {
     "name": "stdout",
     "output_type": "stream",
     "text": [
      "[0.         0.06346652 0.12693304 0.19039955 0.25386607 0.31733259\n",
      " 0.38079911 0.44426563 0.50773215 0.57119866 0.63466518 0.6981317\n",
      " 0.76159822 0.82506474 0.88853126 0.95199777 1.01546429 1.07893081\n",
      " 1.14239733 1.20586385 1.26933037 1.33279688 1.3962634  1.45972992\n",
      " 1.52319644 1.58666296 1.65012947 1.71359599 1.77706251 1.84052903\n",
      " 1.90399555 1.96746207 2.03092858 2.0943951  2.15786162 2.22132814\n",
      " 2.28479466 2.34826118 2.41172769 2.47519421 2.53866073 2.60212725\n",
      " 2.66559377 2.72906028 2.7925268  2.85599332 2.91945984 2.98292636\n",
      " 3.04639288 3.10985939 3.17332591 3.23679243 3.30025895 3.36372547\n",
      " 3.42719199 3.4906585  3.55412502 3.61759154 3.68105806 3.74452458\n",
      " 3.8079911  3.87145761 3.93492413 3.99839065 4.06185717 4.12532369\n",
      " 4.1887902  4.25225672 4.31572324 4.37918976 4.44265628 4.5061228\n",
      " 4.56958931 4.63305583 4.69652235 4.75998887 4.82345539 4.88692191\n",
      " 4.95038842 5.01385494 5.07732146 5.14078798 5.2042545  5.26772102\n",
      " 5.33118753 5.39465405 5.45812057 5.52158709 5.58505361 5.64852012\n",
      " 5.71198664 5.77545316 5.83891968 5.9023862  5.96585272 6.02931923\n",
      " 6.09278575 6.15625227 6.21971879 6.28318531]\n"
     ]
    }
   ],
   "source": [
    "#Tips: regarder np.linspace()\n",
    "import math\n",
    "import numpy as np\n",
    "\n",
    "theta = np.linspace(0, 2*math.pi, 100)\n",
    "print(theta)"
   ]
  },
  {
   "cell_type": "markdown",
   "metadata": {},
   "source": [
    "**Question 2:** Creer une liste x, selon l'équation donné dans l'énnoncé, qui lie un point de coordoné en x pour chaque point de la liste theta."
   ]
  },
  {
   "cell_type": "code",
   "execution_count": 64,
   "metadata": {},
   "outputs": [
    {
     "name": "stdout",
     "output_type": "stream",
     "text": [
      "[0.0, 0.0040820584371332996, 0.032459620243681146, 0.10845166250253213, 0.2534598002445025, 0.4860975401805023, 0.8214214865058571, 1.270292671775893, 1.8388914764735926, 2.5284040419434395, 3.3348918737970106, 4.249349701100716, 5.257949840368312, 6.34246455900798, 7.48085148459144, 8.64798119723831, 9.816480986177442, 10.957664534587717, 12.042514171619938, 13.042680410090924, 13.931462842211307, 14.684737117299532, 15.28179465128425, 15.706064848393723, 15.945693837719826, 15.993958888818534, 15.849503584717477, 15.516385283989264, 15.003933162778688, 14.326421948647752, 13.50257309439841, 12.554901351896286, 11.508930268937672, 10.392304845413262, 9.233833278175616, 8.062492263728672, 6.906431622428712, 5.792014010617905, 4.7429241979941565, 3.779379853229186, 2.917472093059084, 2.168659342148844, 1.539432493205195, 1.0311631500206897, 0.6401401047702711, 0.3577923846801229, 0.1710904485560671, 0.06311066477055718, 0.013742292284473073, 0.0005110287600811755, -0.0005110287600811849, -0.013742292284473158, -0.06311066477055745, -0.17109044855606656, -0.35779238468012375, -0.6401401047702698, -1.0311631500206915, -1.5394324932051928, -2.168659342148845, -2.9174720930590805, -3.7793798532291905, -4.742924197994154, -5.792014010617905, -6.9064316224287055, -8.062492263728675, -9.233833278175613, -10.39230484541327, -11.508930268937675, -12.554901351896286, -13.502573094398405, -14.326421948647756, -15.003933162778688, -15.516385283989264, -15.849503584717471, -15.993958888818534, -15.945693837719826, -15.706064848393723, -15.281794651284255, -14.684737117299532, -13.931462842211307, -13.042680410090924, -12.042514171619933, -10.957664534587712, -9.816480986177442, -8.647981197238318, -7.480851484591434, -6.342464559007974, -5.257949840368312, -4.249349701100723, -3.334891873797007, -2.528404041943438, -1.8388914764735933, -1.2702926717758953, -0.8214214865058549, -0.4860975401805023, -0.2534598002445028, -0.10845166250253133, -0.03245962024368097, -0.004082058437133302, -2.3509453021782707e-46]\n"
     ]
    }
   ],
   "source": [
    "x = []\n",
    "for i in theta:\n",
    "    x.append(16 * math.sin(i)**3)\n",
    "    \n",
    "print(x)"
   ]
  },
  {
   "cell_type": "markdown",
   "metadata": {},
   "source": [
    "**Question 3:** Creer une liste y, selon l'équation donné dans l'énnoncé, qui lie un point de coordoné en y pour chaque point de la liste theta."
   ]
  },
  {
   "cell_type": "code",
   "execution_count": 65,
   "metadata": {},
   "outputs": [
    {
     "name": "stdout",
     "output_type": "stream",
     "text": [
      "[5.0, 5.082246634058751, 5.325083816716627, 5.716992295567392, 6.239392688983062, 6.867539048506324, 7.571700996856079, 8.318570459349798, 9.07281734481298, 9.798711272287777, 10.461723979327065, 11.030029492997972, 11.475826306710855, 11.77641721268863, 11.914997367166663, 11.881118682984466, 11.670817674249239, 11.286413262214726, 10.735999624253228, 10.032675826481944, 9.193567754310441, 8.238707963216545, 7.18984497048066, 6.069254921488402, 4.8986254978579336, 3.698074673944052, 2.4853560154839194, 1.2752884116848242, 0.07943237161334082, -1.0939816627783931, -2.2398840505843345, -3.355982097676404, -4.4422011090221085, -5.500000000000003, -6.531617708612882, -7.539309317136663, -8.524629441970145, -9.487815254835095, -10.427312877546857, -11.339479486552223, -12.218480087890283, -13.05638351369949, -13.843447740506003, -14.568571120910935, -15.21987446347863, -15.785369866255687, -16.253666398542343, -16.614660501719065, -16.86016046555071, -16.984399401025453, -16.984399401025453, -16.86016046555071, -16.614660501719065, -16.253666398542347, -15.785369866255687, -15.219874463478629, -14.568571120910931, -13.843447740506008, -13.056383513699487, -12.218480087890283, -11.339479486552221, -10.427312877546857, -9.487815254835093, -8.524629441970147, -7.539309317136662, -6.531617708612886, -5.499999999999994, -4.442201109022106, -3.3559820976764048, -2.239884050584338, -1.0939816627783876, 0.07943237161334449, 1.2752884116848224, 2.485356015483917, 3.69807467394406, 4.898625497857939, 6.069254921488398, 7.189844970480653, 8.238707963216548, 9.19356775431044, 10.03267582648194, 10.735999624253232, 11.286413262214726, 11.670817674249239, 11.881118682984466, 11.914997367166661, 11.77641721268863, 11.475826306710854, 11.030029492997977, 10.461723979327058, 9.798711272287775, 9.072817344812986, 8.318570459349806, 7.571700996856076, 6.867539048506324, 6.239392688983065, 5.716992295567389, 5.325083816716626, 5.082246634058752, 5.0]\n"
     ]
    }
   ],
   "source": [
    "y = []\n",
    "for i in theta:\n",
    "    y.append(13 * math.cos(i) - 5 * math.cos(2*i) - 2*math.cos(3*i) - math.cos(4*i))\n",
    "    \n",
    "print(y)"
   ]
  },
  {
   "cell_type": "markdown",
   "metadata": {},
   "source": [
    "**Question 4:** Tracer le graphe grâce à la librairie matplotlib et avec les listes x et y calculés dans les questions précédentes."
   ]
  },
  {
   "cell_type": "code",
   "execution_count": 66,
   "metadata": {},
   "outputs": [
    {
     "data": {
      "image/png": "[encoded data removed]",
      "text/plain": [
       "<Figure size 432x288 with 1 Axes>"
      ]
     },
     "metadata": {
      "needs_background": "light"
     },
     "output_type": "display_data"
    }
   ],
   "source": [
    "import matplotlib.pyplot as plt\n",
    "\n",
    "plt.plot(x,y)\n",
    "plt.show()"
   ]
  },
  {
   "cell_type": "code",
   "execution_count": null,
   "metadata": {},
   "outputs": [],
   "source": []
  }
 ],
 "metadata": {
  "kernelspec": {
   "display_name": "Python 3",
   "language": "python",
   "name": "python3"
  },
  "language_info": {
   "codemirror_mode": {
    "name": "ipython",
    "version": 3
   },
   "file_extension": ".py",
   "mimetype": "text/x-python",
   "name": "python",
   "nbconvert_exporter": "python",
   "pygments_lexer": "ipython3",
   "version": "3.7.4"
  },
  "toc": {
   "base_numbering": 1,
   "nav_menu": {},
   "number_sections": true,
   "sideBar": true,
   "skip_h1_title": false,
   "title_cell": "Table of Contents",
   "title_sidebar": "Contents",
   "toc_cell": false,
   "toc_position": {},
   "toc_section_display": true,
   "toc_window_display": false
  },
  "widgets": {
   "application/vnd.jupyter.widget-state+json": {
    "state": {},
    "version_major": 2,
    "version_minor": 0
   }
  }
 },
 "nbformat": 4,
 "nbformat_minor": 2
}
